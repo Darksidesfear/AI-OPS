{
 "cells": [
  {
   "cell_type": "markdown",
   "source": [
    "# Table of Contents\n",
    "\n",
    "1. [RAG Evaluation](#RAG-Evaluation)\n",
    "    1. [Introduction](#Introduction)\n",
    "    2. [Dataset Format](#Dataset-Format)\n",
    "2. [Code](#Code)\n",
    "    1. [Prompts](#Prompts)\n",
    "    2. [Chunks](#Chunks)\n",
    "    3. [Generation](#Generation)"
   ],
   "metadata": {
    "collapsed": false
   },
   "id": "d5b1ef6ca0e50b2f"
  },
  {
   "cell_type": "markdown",
   "source": [
    "# RAG Evaluation\n",
    "\n",
    "## Introduction\n",
    "\n",
    "Our objective is to monitor and improve the RAG pipeline for **AI-OPS**, that requires context-specific data from *Cybersecurity* and *Penetration Testing* fields; also we want the evaluation process to be as automated as possible, for this reason the evaluation output will be provided into [EVALUATION.md](../../../EVALUTATION.md) by using **GitHub Actions**.\n",
    "\n",
    "\n",
    "The workflow is split in two steps:\n",
    "\n",
    "1. **Dataset Generation** (what you're reading): this step won't be automated for now, the reason is that to generate the dataset we'll need a LLM, but this project aims to be full open-source (and I do not have OpenAI API keys) and using Ollama or similar for inference in GitHub Actions would be too much slow.\n",
    "\n",
    "2. **Evaluation** ([evaluation.py](./evaluation.py)): this step will be automated with GitHub Actions, Ollama will still be used for embedding the chunks to upload on the used Vector Database (Qdrant) and generating the responses, but this won't be as expensive as generating a dataset.\n",
    "\n",
    "## Dataset Format\n",
    "| Context                                                                                  | Question                   | Answer                                              | Ground Truth                                                              |\n",
    "|------------------------------------------------------------------------------------------|----------------------------|-----------------------------------------------------|---------------------------------------------------------------------------|\n",
    "| Used to generate Questions and Ground Truth.<br> Won't be present in the output dataset. | Mockup of a user question. | Answers will be generated during <br> evaluation ([evaluation.py](./evaluation.py)) | The \"real\" answer for the question.<br> Manual review should be performed |\n",
    "\n",
    "\n",
    "(...) given a list of chunks we will generate a question/multiple questions for each chunk; we will also generate a Ground Truth, even if it is not optimal (...)"
   ],
   "metadata": {
    "collapsed": false
   },
   "id": "587d6da5daef2b6f"
  },
  {
   "cell_type": "markdown",
   "source": [
    "## Code"
   ],
   "metadata": {
    "collapsed": false
   },
   "id": "b6749f01c3fe32d0"
  },
  {
   "cell_type": "code",
   "execution_count": 1,
   "id": "initial_id",
   "metadata": {
    "collapsed": true,
    "ExecuteTime": {
     "end_time": "2024-06-18T10:36:25.913447Z",
     "start_time": "2024-06-18T10:36:25.025936Z"
    }
   },
   "outputs": [],
   "source": [
    "import json\n",
    "import textwrap\n",
    "from json import JSONDecodeError\n",
    "\n",
    "import ollama\n",
    "import pandas as pd\n",
    "from tqdm import tqdm"
   ]
  },
  {
   "cell_type": "markdown",
   "source": [],
   "metadata": {
    "collapsed": false
   },
   "id": "a8b29b3a7492f2b7"
  },
  {
   "cell_type": "markdown",
   "source": [
    "### Prompts"
   ],
   "metadata": {
    "collapsed": false
   },
   "id": "e5bc040580534fef"
  },
  {
   "cell_type": "code",
   "outputs": [],
   "source": [
    "# Question Generation Prompts\n",
    "gen_query_sys = textwrap.dedent(\"\"\"\n",
    "    As a question-generating assistant specializing in cybersecurity, your task is to generate simple, domain-specific questions based on the information given in a provided document, with a focus on Penetration Testing. \n",
    "    \n",
    "    You will be provided with the text of a document, surrounded by input tags. Please read the document, extract relevant information, and generate a simple, clear question based on the content. The question should be a maximum of two sentences long.\n",
    "    \n",
    "    Your response should be in the following JSON format:\n",
    "    {\"QUESTION\": \"Your question here.\"}\n",
    "\"\"\")\n",
    "\n",
    "gen_query_pr = textwrap.dedent(\"\"\"\n",
    "    <input>{document}</input>\n",
    "    \n",
    "    Your response should be in the following JSON format:\n",
    "    {{\"QUESTION\": \"Your question here.\"}}\n",
    "\"\"\")"
   ],
   "metadata": {
    "collapsed": false,
    "ExecuteTime": {
     "end_time": "2024-06-18T10:36:25.918935Z",
     "start_time": "2024-06-18T10:36:25.914950Z"
    }
   },
   "id": "909ffcf7d895f882",
   "execution_count": 2
  },
  {
   "cell_type": "code",
   "outputs": [],
   "source": [
    "# Question Answering (Ground Truth) Prompts\n",
    "gen_answer_sys = textwrap.dedent(\"\"\"\n",
    "    As an answer-generating assistant specializing in cybersecurity, your task is to provide accurate answers for given questions in the context of Penetration Testing. You will be provided with a question and contextual information to generate a precise and relevant answer.\n",
    "    \n",
    "    Your answer should be in the following JSON format:\n",
    "    {\"ANSWER\": \"Your answer here.\"}\n",
    "    \n",
    "    Take a deep breath and work on this problem step by step.\n",
    "\"\"\")\n",
    "\n",
    "gen_answer_pr = textwrap.dedent(\"\"\"\n",
    "    Given the following question and context, provide an answer in the specified JSON format. The answer should address the question directly, without mentioning the context itself. If the context does not provide relevant information to answer the question, you may write “NOT FOUND” in the answer.\n",
    "    \n",
    "    Query:\n",
    "    <input>{query}</input>\n",
    "    \n",
    "    Context:\n",
    "    <input>{context}</input>\n",
    "    \n",
    "    Your response should be in the following JSON format:\n",
    "    {{\"ANSWER\": \"Your answer here.\"}}\n",
    "\"\"\")"
   ],
   "metadata": {
    "collapsed": false,
    "ExecuteTime": {
     "end_time": "2024-06-18T10:36:25.925443Z",
     "start_time": "2024-06-18T10:36:25.919940Z"
    }
   },
   "id": "b038c4b3396e7573",
   "execution_count": 3
  },
  {
   "cell_type": "markdown",
   "source": [],
   "metadata": {
    "collapsed": false
   },
   "id": "641aec28a0f66d32"
  },
  {
   "cell_type": "markdown",
   "source": [
    "### Chunks"
   ],
   "metadata": {
    "collapsed": false
   },
   "id": "bb5bbdac58609b24"
  },
  {
   "cell_type": "code",
   "outputs": [],
   "source": [
    "from src.agent.knowledge import chunk_str"
   ],
   "metadata": {
    "collapsed": false,
    "ExecuteTime": {
     "end_time": "2024-06-18T10:36:29.411533Z",
     "start_time": "2024-06-18T10:36:25.926435Z"
    }
   },
   "id": "28d4062e8f104809",
   "execution_count": 4
  },
  {
   "cell_type": "code",
   "outputs": [
    {
     "data": {
      "text/plain": "                                        title  \\\n0                       Broken Access Control   \n1                      Cryptographic Failures   \n2                                   Injection   \n3                             Insecure Design   \n4                   Security Misconfiguration   \n5          Vulnerable and Outdated Components   \n6  Identification and Authentication Failures   \n7        Software and Data Integrity Failures   \n8    Security Logging and Monitoring Failures   \n9          Server Side Request Forgery (SSRF)   \n\n                                             content  \n0  Moving up from the fifth position, 94% of appl...  \n1  Shifting up one position to #2, previously kno...  \n2  Injection slides down to the third position. 9...  \n3  A new category for 2021 focuses on risks relat...  \n4  Moving up from #6 in the previous edition, 90%...  \n5  It was #2 from the Top 10 community survey but...  \n6  Previously known as Broken Authentication, thi...  \n7  A new category for 2021 focuses on making assu...  \n8  Security logging and monitoring came from the ...  \n9  This category is added from the Top 10 communi...  ",
      "text/html": "<div>\n<style scoped>\n    .dataframe tbody tr th:only-of-type {\n        vertical-align: middle;\n    }\n\n    .dataframe tbody tr th {\n        vertical-align: top;\n    }\n\n    .dataframe thead th {\n        text-align: right;\n    }\n</style>\n<table border=\"1\" class=\"dataframe\">\n  <thead>\n    <tr style=\"text-align: right;\">\n      <th></th>\n      <th>title</th>\n      <th>content</th>\n    </tr>\n  </thead>\n  <tbody>\n    <tr>\n      <th>0</th>\n      <td>Broken Access Control</td>\n      <td>Moving up from the fifth position, 94% of appl...</td>\n    </tr>\n    <tr>\n      <th>1</th>\n      <td>Cryptographic Failures</td>\n      <td>Shifting up one position to #2, previously kno...</td>\n    </tr>\n    <tr>\n      <th>2</th>\n      <td>Injection</td>\n      <td>Injection slides down to the third position. 9...</td>\n    </tr>\n    <tr>\n      <th>3</th>\n      <td>Insecure Design</td>\n      <td>A new category for 2021 focuses on risks relat...</td>\n    </tr>\n    <tr>\n      <th>4</th>\n      <td>Security Misconfiguration</td>\n      <td>Moving up from #6 in the previous edition, 90%...</td>\n    </tr>\n    <tr>\n      <th>5</th>\n      <td>Vulnerable and Outdated Components</td>\n      <td>It was #2 from the Top 10 community survey but...</td>\n    </tr>\n    <tr>\n      <th>6</th>\n      <td>Identification and Authentication Failures</td>\n      <td>Previously known as Broken Authentication, thi...</td>\n    </tr>\n    <tr>\n      <th>7</th>\n      <td>Software and Data Integrity Failures</td>\n      <td>A new category for 2021 focuses on making assu...</td>\n    </tr>\n    <tr>\n      <th>8</th>\n      <td>Security Logging and Monitoring Failures</td>\n      <td>Security logging and monitoring came from the ...</td>\n    </tr>\n    <tr>\n      <th>9</th>\n      <td>Server Side Request Forgery (SSRF)</td>\n      <td>This category is added from the Top 10 communi...</td>\n    </tr>\n  </tbody>\n</table>\n</div>"
     },
     "execution_count": 5,
     "metadata": {},
     "output_type": "execute_result"
    }
   ],
   "source": [
    "owasp_df = pd.read_json('../../../data/json/owasp.json')\n",
    "owasp_df = owasp_df[['title', 'content']]\n",
    "owasp_df"
   ],
   "metadata": {
    "collapsed": false,
    "ExecuteTime": {
     "end_time": "2024-06-18T10:36:29.429527Z",
     "start_time": "2024-06-18T10:36:29.414030Z"
    }
   },
   "id": "46b9a52d84842463",
   "execution_count": 5
  },
  {
   "cell_type": "code",
   "outputs": [
    {
     "name": "stderr",
     "output_type": "stream",
     "text": [
      "D:\\Desktop\\prog\\Projects\\AI-OPS\\src\\agent\\knowledge\\chunker.py:18: UserWarning: [W008] Evaluating Span.similarity based on empty vectors.\n",
      "  sim = sentences[i-1].similarity(sentences[i])\n"
     ]
    }
   ],
   "source": [
    "chunks = []\n",
    "for idx, item in owasp_df.iterrows():\n",
    "    chunks.extend(chunk_str(item.content))"
   ],
   "metadata": {
    "collapsed": false,
    "ExecuteTime": {
     "end_time": "2024-06-18T10:36:30.512028Z",
     "start_time": "2024-06-18T10:36:29.430530Z"
    }
   },
   "id": "c83fa403738f990a",
   "execution_count": 6
  },
  {
   "cell_type": "code",
   "outputs": [
    {
     "data": {
      "text/plain": "['Moving up from the fifth position, 94% of applications were tested for some form of broken access control with the average incidence rate of 3.81%, and has the most occurrences in the contributed dataset with over 318k.']"
     },
     "execution_count": 7,
     "metadata": {},
     "output_type": "execute_result"
    }
   ],
   "source": [
    "chunks[:1]"
   ],
   "metadata": {
    "collapsed": false,
    "ExecuteTime": {
     "end_time": "2024-06-18T10:36:30.517030Z",
     "start_time": "2024-06-18T10:36:30.513045Z"
    }
   },
   "id": "d7e3ba9fb757051e",
   "execution_count": 7
  },
  {
   "cell_type": "markdown",
   "source": [],
   "metadata": {
    "collapsed": false
   },
   "id": "227a0ec1a7077a62"
  },
  {
   "cell_type": "markdown",
   "source": [
    "### Generation"
   ],
   "metadata": {
    "collapsed": false
   },
   "id": "927ad4458c57ae68"
  },
  {
   "cell_type": "code",
   "outputs": [],
   "source": [
    "import random"
   ],
   "metadata": {
    "collapsed": false,
    "ExecuteTime": {
     "end_time": "2024-06-18T10:36:30.521528Z",
     "start_time": "2024-06-18T10:36:30.518028Z"
    }
   },
   "id": "d009b37def9b2214",
   "execution_count": 8
  },
  {
   "cell_type": "code",
   "outputs": [
    {
     "name": "stderr",
     "output_type": "stream",
     "text": [
      "Generating q&a: 100%|██████████| 100/100 [22:26<00:00, 13.46s/it]"
     ]
    },
    {
     "name": "stdout",
     "output_type": "stream",
     "text": [
      "JSON Decode Errors: 20\n"
     ]
    },
    {
     "name": "stderr",
     "output_type": "stream",
     "text": [
      "\n"
     ]
    }
   ],
   "source": [
    "dataset_size = 100\n",
    "data = []\n",
    "errors = 0\n",
    "\n",
    "for _ in tqdm(range(dataset_size), total=dataset_size, desc='Generating q&a'):\n",
    "    # Get random chunks\n",
    "    start = random.choice(range(len(chunks) - 3))\n",
    "    n = random.choice([1, 2, 3])\n",
    "    chosen_chunks = random.choice(chunks[start:start+n])\n",
    "    \n",
    "    # Generate Question\n",
    "    gen_query = ollama.chat(\n",
    "        model='gemma:2b',\n",
    "        messages=[\n",
    "            {'role': 'system', 'content': gen_query_sys},\n",
    "            {'role': 'user', 'content': gen_query_pr.format(document=chosen_chunks)}\n",
    "        ]\n",
    "    )\n",
    "    \n",
    "    try:\n",
    "        question = json.loads(gen_query['message']['content'])['QUESTION']\n",
    "    except JSONDecodeError:\n",
    "        errors += 1\n",
    "        question = gen_query['message']['content']\n",
    "\n",
    "    # Generate Ground Truth\n",
    "    gen_answer = ollama.chat(\n",
    "        model='gemma:2b',\n",
    "        messages=[\n",
    "            {'role': 'system', 'content': gen_answer_sys},\n",
    "            {'role': 'user', 'content': gen_answer_pr.format(query=question, context=chosen_chunks)}\n",
    "        ]\n",
    "    )\n",
    "    \n",
    "    try:       \n",
    "        answer = json.loads(gen_answer['message']['content'])['ANSWER']\n",
    "    except JSONDecodeError:\n",
    "        errors += 1\n",
    "        answer = gen_answer['message']['content']\n",
    "    \n",
    "    data.append({\n",
    "        'context': chosen_chunks,\n",
    "        'question': question,\n",
    "        'ground_truth': answer\n",
    "    })\n",
    "print(f'JSON Decode Errors: {errors}')"
   ],
   "metadata": {
    "collapsed": false,
    "ExecuteTime": {
     "end_time": "2024-06-18T10:58:56.648274Z",
     "start_time": "2024-06-18T10:36:30.522529Z"
    }
   },
   "id": "5cbb2eca96cca287",
   "execution_count": 9
  },
  {
   "cell_type": "code",
   "outputs": [],
   "source": [
    "for item in data:\n",
    "    q: str = item['question']\n",
    "    a: str = item['ground_truth']\n",
    "    \n",
    "    if q.startswith('{') and not q.endswith('}'):\n",
    "        q += '}'\n",
    "        q = json.loads(q)[\"QUESTION\"]\n",
    "    if a.startswith('{') and not a.endswith('}'):\n",
    "        if not a.strip().endswith('\"'):\n",
    "            a += '\"}'\n",
    "        else:\n",
    "            a += '}'\n",
    "        a = a.replace('\\n', '')\n",
    "        a = json.loads(a)[\"ANSWER\"]\n",
    "    \n",
    "    item['question'] = q\n",
    "    item['ground_truth'] = a"
   ],
   "metadata": {
    "collapsed": false,
    "ExecuteTime": {
     "end_time": "2024-06-18T10:58:56.664276Z",
     "start_time": "2024-06-18T10:58:56.652277Z"
    }
   },
   "id": "ea61b759d020bbce",
   "execution_count": 10
  },
  {
   "cell_type": "code",
   "outputs": [
    {
     "data": {
      "text/plain": "                                             question  \\\n0   What are the most common vulnerabilities found...   \n1   How can a patch management process be implemen...   \n2   What are some example exploitable component vu...   \n3   What are some common authentication weaknesses...   \n4   How can digital signatures or similar mechanis...   \n..                                                ...   \n95  How can an attacker take over an application b...   \n96  What security vulnerabilities were exploited b...   \n97  Are deprecated cryptographic padding methods s...   \n98  What are some key concepts related to secure d...   \n99  What is an example of a prohibited activity re...   \n\n                                         ground_truth  \n0   According to the OWASP Cheat Sheet, the most c...  \n1   A patch management process can be implemented ...  \n2   Some example exploitable component vulnerabili...  \n3    CWE-297: Improper Validation of Certificate w...  \n4   Implement digital signatures or similar mechan...  \n..                                                ...  \n95  The context does not provide sufficient inform...  \n96  The context does not provide information about...  \n97  The context does not provide information about...  \n98  Insecure design encompasses various weaknesses...  \n99  The inclusion of 'questions and answers' in th...  \n\n[100 rows x 2 columns]",
      "text/html": "<div>\n<style scoped>\n    .dataframe tbody tr th:only-of-type {\n        vertical-align: middle;\n    }\n\n    .dataframe tbody tr th {\n        vertical-align: top;\n    }\n\n    .dataframe thead th {\n        text-align: right;\n    }\n</style>\n<table border=\"1\" class=\"dataframe\">\n  <thead>\n    <tr style=\"text-align: right;\">\n      <th></th>\n      <th>question</th>\n      <th>ground_truth</th>\n    </tr>\n  </thead>\n  <tbody>\n    <tr>\n      <th>0</th>\n      <td>What are the most common vulnerabilities found...</td>\n      <td>According to the OWASP Cheat Sheet, the most c...</td>\n    </tr>\n    <tr>\n      <th>1</th>\n      <td>How can a patch management process be implemen...</td>\n      <td>A patch management process can be implemented ...</td>\n    </tr>\n    <tr>\n      <th>2</th>\n      <td>What are some example exploitable component vu...</td>\n      <td>Some example exploitable component vulnerabili...</td>\n    </tr>\n    <tr>\n      <th>3</th>\n      <td>What are some common authentication weaknesses...</td>\n      <td>CWE-297: Improper Validation of Certificate w...</td>\n    </tr>\n    <tr>\n      <th>4</th>\n      <td>How can digital signatures or similar mechanis...</td>\n      <td>Implement digital signatures or similar mechan...</td>\n    </tr>\n    <tr>\n      <th>...</th>\n      <td>...</td>\n      <td>...</td>\n    </tr>\n    <tr>\n      <th>95</th>\n      <td>How can an attacker take over an application b...</td>\n      <td>The context does not provide sufficient inform...</td>\n    </tr>\n    <tr>\n      <th>96</th>\n      <td>What security vulnerabilities were exploited b...</td>\n      <td>The context does not provide information about...</td>\n    </tr>\n    <tr>\n      <th>97</th>\n      <td>Are deprecated cryptographic padding methods s...</td>\n      <td>The context does not provide information about...</td>\n    </tr>\n    <tr>\n      <th>98</th>\n      <td>What are some key concepts related to secure d...</td>\n      <td>Insecure design encompasses various weaknesses...</td>\n    </tr>\n    <tr>\n      <th>99</th>\n      <td>What is an example of a prohibited activity re...</td>\n      <td>The inclusion of 'questions and answers' in th...</td>\n    </tr>\n  </tbody>\n</table>\n<p>100 rows × 2 columns</p>\n</div>"
     },
     "execution_count": 11,
     "metadata": {},
     "output_type": "execute_result"
    }
   ],
   "source": [
    "output = pd.DataFrame(data)[['question', 'ground_truth']]\n",
    "output"
   ],
   "metadata": {
    "collapsed": false,
    "ExecuteTime": {
     "end_time": "2024-06-18T10:58:56.694773Z",
     "start_time": "2024-06-18T10:58:56.667780Z"
    }
   },
   "id": "510b48619d5f48f8",
   "execution_count": 11
  },
  {
   "cell_type": "code",
   "outputs": [],
   "source": [
    "output.to_json('../../../data/rag_eval/owasp_100-200.json')"
   ],
   "metadata": {
    "collapsed": false,
    "ExecuteTime": {
     "end_time": "2024-06-18T10:58:56.710283Z",
     "start_time": "2024-06-18T10:58:56.698774Z"
    }
   },
   "id": "ce5a1b24736c23bc",
   "execution_count": 12
  },
  {
   "cell_type": "code",
   "outputs": [],
   "source": [],
   "metadata": {
    "collapsed": false,
    "ExecuteTime": {
     "end_time": "2024-06-18T10:58:56.720777Z",
     "start_time": "2024-06-18T10:58:56.715275Z"
    }
   },
   "id": "2e7aed9db6484592",
   "execution_count": 12
  }
 ],
 "metadata": {
  "kernelspec": {
   "display_name": "Python 3",
   "language": "python",
   "name": "python3"
  },
  "language_info": {
   "codemirror_mode": {
    "name": "ipython",
    "version": 2
   },
   "file_extension": ".py",
   "mimetype": "text/x-python",
   "name": "python",
   "nbconvert_exporter": "python",
   "pygments_lexer": "ipython2",
   "version": "2.7.6"
  }
 },
 "nbformat": 4,
 "nbformat_minor": 5
}
