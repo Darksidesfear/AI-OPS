{
 "cells": [
  {
   "cell_type": "code",
   "execution_count": 1,
   "id": "initial_id",
   "metadata": {
    "collapsed": true,
    "ExecuteTime": {
     "end_time": "2024-06-19T08:55:30.161918Z",
     "start_time": "2024-06-19T08:55:24.236921Z"
    }
   },
   "outputs": [],
   "source": [
    "import os\n",
    "\n",
    "import pandas as pd\n",
    "from test.benchmarks.rag.evaluation import init_knowledge_base\n",
    "from src.agent.knowledge import Store, Topic"
   ]
  },
  {
   "cell_type": "code",
   "outputs": [
    {
     "name": "stderr",
     "output_type": "stream",
     "text": [
      "Uploading owasp.json: 100%|██████████| 10/10 [00:09<00:00,  1.11it/s]\n"
     ]
    }
   ],
   "source": [
    "knowledge_base: Store = init_knowledge_base({\n",
    "    '../../../data/json/owasp.json': [Topic.WebPenetrationTesting]\n",
    "})"
   ],
   "metadata": {
    "collapsed": false,
    "ExecuteTime": {
     "end_time": "2024-06-19T08:55:41.829245Z",
     "start_time": "2024-06-19T08:55:30.162921Z"
    }
   },
   "id": "b1441efd86811dd8",
   "execution_count": 2
  },
  {
   "cell_type": "markdown",
   "source": [],
   "metadata": {
    "collapsed": false
   },
   "id": "84a65f908228afc9"
  },
  {
   "cell_type": "markdown",
   "source": [
    "### Load Synthetic Dataset"
   ],
   "metadata": {
    "collapsed": false
   },
   "id": "ac205fbdbf95bc52"
  },
  {
   "cell_type": "code",
   "outputs": [],
   "source": [
    "synthetic_qa_paths = [\n",
    "    '../../../data/rag_eval/owasp_100.json',\n",
    "    # '../../../data/rag_eval/owasp_100-200.json'\n",
    "] "
   ],
   "metadata": {
    "collapsed": false,
    "ExecuteTime": {
     "end_time": "2024-06-19T08:55:41.836743Z",
     "start_time": "2024-06-19T08:55:41.832744Z"
    }
   },
   "id": "ba2c82d6c78358f4",
   "execution_count": 3
  },
  {
   "cell_type": "code",
   "outputs": [
    {
     "data": {
      "text/plain": "                                             question  \\\n0   How can a security professional choose appropr...   \n1   Is any data transmitted in clear text, and are...   \n2   What is the SQL injection vulnerability in the...   \n3   What security measures are implemented to prev...   \n4   What are the key security requirements to be c...   \n..                                                ...   \n95  What is the vulnerability category that is not...   \n96  How can an attacker gain access to a user's au...   \n97  What was the position of security logging and ...   \n98  What are some prohibited attack scenarios rela...   \n99  What are some example exploitable component vu...   \n\n                                         ground_truth  \n0   Choose a CSPRNG-based initialization vector fo...  \n1   The context does not provide any information a...  \n2   The SQL injection vulnerability in the given s...  \n3   The context does not provide sufficient inform...  \n4   Secure design is a crucial phase in applicatio...  \n..                                                ...  \n95  The vulnerability category that is not include...  \n96  The attacker can gain access to the user's aut...  \n97  The position of security logging and monitorin...  \n98  Scenario #1: A credential recovery workflow mi...  \n99  CVE-2017-5638, Heartbleed vulnerability, Strut...  \n\n[100 rows x 2 columns]",
      "text/html": "<div>\n<style scoped>\n    .dataframe tbody tr th:only-of-type {\n        vertical-align: middle;\n    }\n\n    .dataframe tbody tr th {\n        vertical-align: top;\n    }\n\n    .dataframe thead th {\n        text-align: right;\n    }\n</style>\n<table border=\"1\" class=\"dataframe\">\n  <thead>\n    <tr style=\"text-align: right;\">\n      <th></th>\n      <th>question</th>\n      <th>ground_truth</th>\n    </tr>\n  </thead>\n  <tbody>\n    <tr>\n      <th>0</th>\n      <td>How can a security professional choose appropr...</td>\n      <td>Choose a CSPRNG-based initialization vector fo...</td>\n    </tr>\n    <tr>\n      <th>1</th>\n      <td>Is any data transmitted in clear text, and are...</td>\n      <td>The context does not provide any information a...</td>\n    </tr>\n    <tr>\n      <th>2</th>\n      <td>What is the SQL injection vulnerability in the...</td>\n      <td>The SQL injection vulnerability in the given s...</td>\n    </tr>\n    <tr>\n      <th>3</th>\n      <td>What security measures are implemented to prev...</td>\n      <td>The context does not provide sufficient inform...</td>\n    </tr>\n    <tr>\n      <th>4</th>\n      <td>What are the key security requirements to be c...</td>\n      <td>Secure design is a crucial phase in applicatio...</td>\n    </tr>\n    <tr>\n      <th>...</th>\n      <td>...</td>\n      <td>...</td>\n    </tr>\n    <tr>\n      <th>95</th>\n      <td>What is the vulnerability category that is not...</td>\n      <td>The vulnerability category that is not include...</td>\n    </tr>\n    <tr>\n      <th>96</th>\n      <td>How can an attacker gain access to a user's au...</td>\n      <td>The attacker can gain access to the user's aut...</td>\n    </tr>\n    <tr>\n      <th>97</th>\n      <td>What was the position of security logging and ...</td>\n      <td>The position of security logging and monitorin...</td>\n    </tr>\n    <tr>\n      <th>98</th>\n      <td>What are some prohibited attack scenarios rela...</td>\n      <td>Scenario #1: A credential recovery workflow mi...</td>\n    </tr>\n    <tr>\n      <th>99</th>\n      <td>What are some example exploitable component vu...</td>\n      <td>CVE-2017-5638, Heartbleed vulnerability, Strut...</td>\n    </tr>\n  </tbody>\n</table>\n<p>100 rows × 2 columns</p>\n</div>"
     },
     "execution_count": 4,
     "metadata": {},
     "output_type": "execute_result"
    }
   ],
   "source": [
    "df = pd.concat(\n",
    "    [pd.read_json(path) for path in synthetic_qa_paths],\n",
    "    ignore_index=True\n",
    ")\n",
    "df"
   ],
   "metadata": {
    "collapsed": false,
    "ExecuteTime": {
     "end_time": "2024-06-19T08:55:41.868776Z",
     "start_time": "2024-06-19T08:55:41.838744Z"
    }
   },
   "id": "87c213b188fbb94c",
   "execution_count": 4
  },
  {
   "cell_type": "markdown",
   "source": [],
   "metadata": {
    "collapsed": false
   },
   "id": "a629ba80b9f6f7b7"
  },
  {
   "cell_type": "markdown",
   "source": [
    "### Retrieve context and generate responses"
   ],
   "metadata": {
    "collapsed": false
   },
   "id": "554640690cff08aa"
  },
  {
   "cell_type": "code",
   "outputs": [],
   "source": [
    "import textwrap\n",
    "from datasets import Dataset\n",
    "from tqdm import tqdm\n",
    "from src.agent.llm import LLM"
   ],
   "metadata": {
    "collapsed": false,
    "ExecuteTime": {
     "end_time": "2024-06-19T08:55:42.978746Z",
     "start_time": "2024-06-19T08:55:41.870245Z"
    }
   },
   "id": "ff8adbd82ec644f8",
   "execution_count": 5
  },
  {
   "cell_type": "code",
   "outputs": [],
   "source": [
    "sys_prompt = textwrap.dedent(\"\"\"\n",
    "You are a Cybersecurity professional assistant, your job is to provide an answer to context specific questions.\n",
    "You will be provided with additional Context information to provide an answer.\n",
    "\"\"\")\n",
    "\n",
    "usr_prompt = textwrap.dedent(\"\"\"\n",
    "Question: {query}\n",
    "Context:\n",
    "{context}\n",
    "\"\"\")"
   ],
   "metadata": {
    "collapsed": false,
    "ExecuteTime": {
     "end_time": "2024-06-19T08:55:42.990244Z",
     "start_time": "2024-06-19T08:55:42.981745Z"
    }
   },
   "id": "96c8c76ec10f9101",
   "execution_count": 6
  },
  {
   "cell_type": "code",
   "outputs": [],
   "source": [
    "llm = LLM(model='gemma:2b')\n",
    "\n",
    "def gen_context_answer(question: str):\n",
    "    points = knowledge_base.retrieve(question, 'owasp')\n",
    "    context_list = [f'{p.payload[\"title\"]}: {p.payload[\"text\"]}' for p in points]\n",
    "    context = '\\n'.join(context_list)\n",
    "    answer = llm.query(\n",
    "        messages=[\n",
    "            {'role': 'system', 'content': sys_prompt},\n",
    "            {'role': 'user', 'content': usr_prompt.format(query=question, context=context)}\n",
    "        ],\n",
    "        stream=False\n",
    "    )['message']['content']\n",
    "    \n",
    "    return context_list, answer"
   ],
   "metadata": {
    "collapsed": false,
    "ExecuteTime": {
     "end_time": "2024-06-19T08:55:43.002744Z",
     "start_time": "2024-06-19T08:55:42.993246Z"
    }
   },
   "id": "fcb81d39510e7c0f",
   "execution_count": 7
  },
  {
   "cell_type": "code",
   "outputs": [
    {
     "name": "stderr",
     "output_type": "stream",
     "text": [
      "Retrieving context and generating answers.:  99%|█████████▉| 100/101 [1:07:39<00:40, 40.59s/it]\n"
     ]
    }
   ],
   "source": [
    "limit = 101\n",
    "eval_data = []\n",
    "for i, items in tqdm(df.iterrows(), total=limit, desc='Retrieving context and generating answers.'):\n",
    "    if i >= limit:\n",
    "        break\n",
    "    ctx, ans = gen_context_answer(items.question)\n",
    "    eval_data.append({\n",
    "        'contexts': ctx,\n",
    "        'question': items.question,\n",
    "        'answer': ans,\n",
    "        'ground_truth': items.ground_truth\n",
    "    })"
   ],
   "metadata": {
    "collapsed": false,
    "ExecuteTime": {
     "end_time": "2024-06-19T10:03:22.228949Z",
     "start_time": "2024-06-19T08:55:43.005746Z"
    }
   },
   "id": "cad1a2e72a2cce65",
   "execution_count": 8
  },
  {
   "cell_type": "code",
   "outputs": [
    {
     "data": {
      "text/plain": "                                             contexts  \\\n0   [Cryptographic Failures: * Store passwords usi...   \n1   [Cryptographic Failures: For all such data:\\n*...   \n2   [Vulnerable and Outdated Components: Such flaw...   \n3   [Vulnerable and Outdated Components: * Continu...   \n4   [Insecure Design: How to Prevent\\n* Establish ...   \n..                                                ...   \n95  [Vulnerable and Outdated Components: It was #2...   \n96  [Identification and Authentication Failures: A...   \n97  [Security Logging and Monitoring Failures: Sec...   \n98  [Insecure Design: Limit resource consumption b...   \n99  [Vulnerable and Outdated Components: Such flaw...   \n\n                                             question  \\\n0   How can a security professional choose appropr...   \n1   Is any data transmitted in clear text, and are...   \n2   What is the SQL injection vulnerability in the...   \n3   What security measures are implemented to prev...   \n4   What are the key security requirements to be c...   \n..                                                ...   \n95  What is the vulnerability category that is not...   \n96  How can an attacker gain access to a user's au...   \n97  What was the position of security logging and ...   \n98  What are some prohibited attack scenarios rela...   \n99  What are some example exploitable component vu...   \n\n                                               answer  \\\n0   **How can a security professional choose appro...   \n1   I am unable to provide a specific answer to th...   \n2   Sure, here's an answer to the context question...   \n3   **Security measures to prevent unauthorized ac...   \n4   Sure, here are the key security requirements t...   \n..                                                ...   \n95  The vulnerability category that is not include...   \n96  Sure, here is how an attacker can gain access ...   \n97  Sure, here's the answer to your question:\\n\\nI...   \n98  Sure, here are some prohibited attack scenario...   \n99  Sure, here are some examples of exploitable co...   \n\n                                         ground_truth  \n0   Choose a CSPRNG-based initialization vector fo...  \n1   The context does not provide any information a...  \n2   The SQL injection vulnerability in the given s...  \n3   The context does not provide sufficient inform...  \n4   Secure design is a crucial phase in applicatio...  \n..                                                ...  \n95  The vulnerability category that is not include...  \n96  The attacker can gain access to the user's aut...  \n97  The position of security logging and monitorin...  \n98  Scenario #1: A credential recovery workflow mi...  \n99  CVE-2017-5638, Heartbleed vulnerability, Strut...  \n\n[100 rows x 4 columns]",
      "text/html": "<div>\n<style scoped>\n    .dataframe tbody tr th:only-of-type {\n        vertical-align: middle;\n    }\n\n    .dataframe tbody tr th {\n        vertical-align: top;\n    }\n\n    .dataframe thead th {\n        text-align: right;\n    }\n</style>\n<table border=\"1\" class=\"dataframe\">\n  <thead>\n    <tr style=\"text-align: right;\">\n      <th></th>\n      <th>contexts</th>\n      <th>question</th>\n      <th>answer</th>\n      <th>ground_truth</th>\n    </tr>\n  </thead>\n  <tbody>\n    <tr>\n      <th>0</th>\n      <td>[Cryptographic Failures: * Store passwords usi...</td>\n      <td>How can a security professional choose appropr...</td>\n      <td>**How can a security professional choose appro...</td>\n      <td>Choose a CSPRNG-based initialization vector fo...</td>\n    </tr>\n    <tr>\n      <th>1</th>\n      <td>[Cryptographic Failures: For all such data:\\n*...</td>\n      <td>Is any data transmitted in clear text, and are...</td>\n      <td>I am unable to provide a specific answer to th...</td>\n      <td>The context does not provide any information a...</td>\n    </tr>\n    <tr>\n      <th>2</th>\n      <td>[Vulnerable and Outdated Components: Such flaw...</td>\n      <td>What is the SQL injection vulnerability in the...</td>\n      <td>Sure, here's an answer to the context question...</td>\n      <td>The SQL injection vulnerability in the given s...</td>\n    </tr>\n    <tr>\n      <th>3</th>\n      <td>[Vulnerable and Outdated Components: * Continu...</td>\n      <td>What security measures are implemented to prev...</td>\n      <td>**Security measures to prevent unauthorized ac...</td>\n      <td>The context does not provide sufficient inform...</td>\n    </tr>\n    <tr>\n      <th>4</th>\n      <td>[Insecure Design: How to Prevent\\n* Establish ...</td>\n      <td>What are the key security requirements to be c...</td>\n      <td>Sure, here are the key security requirements t...</td>\n      <td>Secure design is a crucial phase in applicatio...</td>\n    </tr>\n    <tr>\n      <th>...</th>\n      <td>...</td>\n      <td>...</td>\n      <td>...</td>\n      <td>...</td>\n    </tr>\n    <tr>\n      <th>95</th>\n      <td>[Vulnerable and Outdated Components: It was #2...</td>\n      <td>What is the vulnerability category that is not...</td>\n      <td>The vulnerability category that is not include...</td>\n      <td>The vulnerability category that is not include...</td>\n    </tr>\n    <tr>\n      <th>96</th>\n      <td>[Identification and Authentication Failures: A...</td>\n      <td>How can an attacker gain access to a user's au...</td>\n      <td>Sure, here is how an attacker can gain access ...</td>\n      <td>The attacker can gain access to the user's aut...</td>\n    </tr>\n    <tr>\n      <th>97</th>\n      <td>[Security Logging and Monitoring Failures: Sec...</td>\n      <td>What was the position of security logging and ...</td>\n      <td>Sure, here's the answer to your question:\\n\\nI...</td>\n      <td>The position of security logging and monitorin...</td>\n    </tr>\n    <tr>\n      <th>98</th>\n      <td>[Insecure Design: Limit resource consumption b...</td>\n      <td>What are some prohibited attack scenarios rela...</td>\n      <td>Sure, here are some prohibited attack scenario...</td>\n      <td>Scenario #1: A credential recovery workflow mi...</td>\n    </tr>\n    <tr>\n      <th>99</th>\n      <td>[Vulnerable and Outdated Components: Such flaw...</td>\n      <td>What are some example exploitable component vu...</td>\n      <td>Sure, here are some examples of exploitable co...</td>\n      <td>CVE-2017-5638, Heartbleed vulnerability, Strut...</td>\n    </tr>\n  </tbody>\n</table>\n<p>100 rows × 4 columns</p>\n</div>"
     },
     "execution_count": 9,
     "metadata": {},
     "output_type": "execute_result"
    }
   ],
   "source": [
    "eval_dataset = pd.DataFrame(eval_data)\n",
    "eval_dataset"
   ],
   "metadata": {
    "collapsed": false,
    "ExecuteTime": {
     "end_time": "2024-06-19T10:03:22.424948Z",
     "start_time": "2024-06-19T10:03:22.255947Z"
    }
   },
   "id": "9ef8a49e35990408",
   "execution_count": 9
  },
  {
   "cell_type": "markdown",
   "source": [],
   "metadata": {
    "collapsed": false
   },
   "id": "a77551bf33d25a5d"
  },
  {
   "cell_type": "markdown",
   "source": [
    "### Evaluate with LLM as a judge"
   ],
   "metadata": {
    "collapsed": false
   },
   "id": "85c9e2d9ed6fd3c4"
  },
  {
   "cell_type": "code",
   "outputs": [],
   "source": [
    "import re\n",
    "import os\n",
    "import json\n",
    "from json import JSONDecodeError\n",
    "from dataclasses import dataclass\n",
    "from abc import ABC, abstractmethod\n",
    "\n",
    "import requests\n",
    "import numpy as np\n",
    "from dotenv import load_dotenv\n",
    "load_dotenv()\n",
    "\n",
    "hf_api_key = os.environ.get('HF_API_KEY')\n",
    "API_URL = \"https://api-inference.huggingface.co/models/mistralai/Mistral-7B-Instruct-v0.3\"\n",
    "json_pattern = r'{\"result\": \\[[^\\]]*\\]}'"
   ],
   "metadata": {
    "collapsed": false,
    "ExecuteTime": {
     "end_time": "2024-06-19T10:03:22.442449Z",
     "start_time": "2024-06-19T10:03:22.428945Z"
    }
   },
   "id": "5580a76d77c3a1dd",
   "execution_count": 10
  },
  {
   "cell_type": "code",
   "outputs": [],
   "source": [
    "@dataclass\n",
    "class HuggingFaceLLM:\n",
    "    \"\"\"Represents HuggingFace Inference Endpoint\"\"\"\n",
    "    url: str\n",
    "    key: str\n",
    "    \n",
    "    def __post_init__(self):\n",
    "        self.headers = {\"Authorization\": f\"Bearer {self.key}\", \"Content-Type\": \"application/json\"}\n",
    "\n",
    "    def __query(self, payload):\n",
    "        response = requests.post(self.url, headers=self.headers, json={'inputs': payload})\n",
    "        response.raise_for_status()\n",
    "        return response.json()\n",
    "    \n",
    "    def query(self, messages: list):\n",
    "        prompt = '\\n'.join([msg['content'] for msg in messages])\n",
    "        return self.__query(prompt)"
   ],
   "metadata": {
    "collapsed": false,
    "ExecuteTime": {
     "end_time": "2024-06-19T10:03:22.459947Z",
     "start_time": "2024-06-19T10:03:22.445947Z"
    }
   },
   "id": "c15f7e7e8fb88cce",
   "execution_count": 11
  },
  {
   "cell_type": "code",
   "outputs": [],
   "source": [
    "@dataclass\n",
    "class Metric(ABC):\n",
    "    \"\"\"Represents a RAG evaluation metric using LLM-as-a-judge paradigm\"\"\"\n",
    "    system_prompt: str\n",
    "    user_prompt: str\n",
    "    llm_provider: HuggingFaceLLM\n",
    "    \n",
    "    @abstractmethod\n",
    "    def compute(self, *args, **kwargs) -> float:\n",
    "        \"\"\"Needs to be implemented to evaluate a metric\"\"\"\n",
    "        pass\n",
    "    \n",
    "    \n",
    "class ContextRecall(Metric):\n",
    "    \"\"\"Assesses how much the answer is based on the context\"\"\"\n",
    "    \n",
    "    def compute(self, answer: str, context: str):\n",
    "        \"\"\"Computes context recall given answer and context\"\"\"\n",
    "        messages = [\n",
    "            {'role': 'system', 'content': self.system_prompt},\n",
    "            {'role': 'user', 'content': self.user_prompt.format(answer=answer, context=context)}\n",
    "        ]\n",
    "        \n",
    "        result = self.llm_provider.query(messages)\n",
    "        result = result[0]['generated_text'].split('\\n')[-1]\n",
    "        \n",
    "        try:\n",
    "            return np.mean(json.loads(result)['result'])\n",
    "        except JSONDecodeError:\n",
    "            match = re.search(json_pattern, result)\n",
    "            if match:\n",
    "                return np.mean(json.loads(match.group())['result'])\n",
    "            else:\n",
    "                return result\n",
    "    \n",
    "    \n",
    "class ContextPrecision(Metric):\n",
    "    \"\"\"Assesses how much the context was useful in generating the answer\"\"\"\n",
    "    \n",
    "    def compute(self, question: str, answer: str, context: str):\n",
    "        \"\"\"Uses question, answer and context\"\"\"\n",
    "        messages = [\n",
    "            {'role': 'system', 'content': self.system_prompt},\n",
    "            {'role': 'user', 'content': self.user_prompt.format(question=question, answer=answer, context=context)}\n",
    "        ]\n",
    "        \n",
    "        result = self.llm_provider.query(messages)\n",
    "        result = result[0]['generated_text'].split('\\n')[-1]\n",
    "        \n",
    "        try:\n",
    "            return np.mean(json.loads(result)['result'])\n",
    "        except JSONDecodeError:\n",
    "            match = re.search(json_pattern, result)\n",
    "            if match:\n",
    "                return np.mean(json.loads(match.group())['result'])\n",
    "            else:\n",
    "                return result"
   ],
   "metadata": {
    "collapsed": false,
    "ExecuteTime": {
     "end_time": "2024-06-19T10:03:22.502947Z",
     "start_time": "2024-06-19T10:03:22.480446Z"
    }
   },
   "id": "93059f0f04e3a35b",
   "execution_count": 12
  },
  {
   "cell_type": "code",
   "outputs": [],
   "source": [
    "mistral_context_recall_sys = textwrap.dedent(\"\"\"\n",
    "Given a context, and an answer, analyze each sentence in the answer and classify if the sentence can be attributed to the given context or not. Use only \"Yes\" (1) or \"No\" (0) as a binary classification. \n",
    "\n",
    "Your output should contain a list of 0 or 1 for each sentence, also it should be a JSON string as follows:\n",
    "{{\"result\": [1, 0, ...]}}\n",
    "\n",
    "IMPORTANT:\n",
    "- Only provide the JSON string in the specified format. Do not include any additional text.\n",
    "- If the answer mentions that available information wasn't sufficient, your response should be the following: {{\"result\": [0]}}\n",
    "\"\"\")\n",
    "\n",
    "mistral_context_recall_usr = textwrap.dedent(\"\"\"\n",
    "Answer:\n",
    "{answer}\n",
    "\n",
    "Context:\n",
    "{context}\n",
    "\n",
    "Your output should contain a list of 0 or 1 for each sentence, also it should be a JSON string as follows:\n",
    "{{\"result\": [1, 0, ...]}}\n",
    "\n",
    "IMPORTANT:\n",
    "- Only provide the JSON string in the specified format. Do not include any additional text.\n",
    "- If the answer mentions that available information wasn't sufficient, your response should be the following: {{\"result\": [0]}}\n",
    "\"\"\")\n",
    "\n",
    "mistral_context_precision_sys = textwrap.dedent(\"\"\"\n",
    "Given question, answer and context verify if the context was useful in arriving at the given answer. \n",
    "Use only \"Useful\" (1) or \"Not Useful\" (0) as a binary classification. \n",
    "\n",
    "Your output should contain a list of 0 or 1 for each sentence, also it should be a JSON string as follows:\n",
    "{{\"result\": [1, 0, ...]}}\n",
    "\n",
    "IMPORTANT:\n",
    "- Only provide the JSON string in the specified format. Do not include explanations or any additional text.\n",
    "- If the answer do not provide a response to the question or mentions that available information wasn't sufficient, your response should be the following:  {{\"result\": [0]}}\n",
    "\"\"\")\n",
    "\n",
    "mistral_context_precision_usr = textwrap.dedent(\"\"\"\n",
    "Question:\n",
    "{question}\n",
    "\n",
    "Context:\n",
    "{context}\n",
    "\n",
    "Answer:\n",
    "{answer}\n",
    "\n",
    "Your output should contain a list of 0 or 1 for each sentence, also it should be a JSON string as follows:\n",
    "{{\"result\": [1, 0, ...]}}\n",
    "\n",
    "IMPORTANT:\n",
    "- Only provide the JSON string in the specified format. Do not include explanations or any additional text.\n",
    "- If the answer do not provide a response to the question or mentions that available information wasn't sufficient, your response should be the following:  {{\"result\": [0]}}\n",
    "\"\"\")"
   ],
   "metadata": {
    "collapsed": false,
    "ExecuteTime": {
     "end_time": "2024-06-19T10:03:22.515447Z",
     "start_time": "2024-06-19T10:03:22.505947Z"
    }
   },
   "id": "a6d59f4490fc1fe2",
   "execution_count": 13
  },
  {
   "cell_type": "markdown",
   "source": [],
   "metadata": {
    "collapsed": false
   },
   "id": "1a09019a25040f02"
  },
  {
   "cell_type": "markdown",
   "source": [
    "## Run Evaluation"
   ],
   "metadata": {
    "collapsed": false
   },
   "id": "8e53f6a6dd302f45"
  },
  {
   "cell_type": "code",
   "outputs": [],
   "source": [
    "hf_llm = HuggingFaceLLM(API_URL, hf_api_key)"
   ],
   "metadata": {
    "collapsed": false,
    "ExecuteTime": {
     "end_time": "2024-06-19T10:03:22.528945Z",
     "start_time": "2024-06-19T10:03:22.517448Z"
    }
   },
   "id": "c682374384fe0ee5",
   "execution_count": 14
  },
  {
   "cell_type": "code",
   "outputs": [
    {
     "name": "stderr",
     "output_type": "stream",
     "text": [
      "Measuring Context Recall: 100%|██████████| 100/100 [02:06<00:00,  1.26s/it]\n"
     ]
    }
   ],
   "source": [
    "ctx_recall = ContextRecall(mistral_context_recall_sys, mistral_context_recall_usr, hf_llm)\n",
    "recall = []\n",
    "for i, item in tqdm(eval_dataset.iterrows(), total=len(eval_dataset), desc='Measuring Context Recall'):\n",
    "    ctx = '\\n\\n'.join(item.contexts)\n",
    "    ans = item.answer\n",
    "    recall.append(ctx_recall.compute(ans, ctx))"
   ],
   "metadata": {
    "collapsed": false,
    "ExecuteTime": {
     "end_time": "2024-06-19T10:05:28.941230Z",
     "start_time": "2024-06-19T10:03:22.530947Z"
    }
   },
   "id": "6190b68800bfa74e",
   "execution_count": 15
  },
  {
   "cell_type": "code",
   "outputs": [
    {
     "name": "stderr",
     "output_type": "stream",
     "text": [
      "Measuring Context Recall: 100%|██████████| 100/100 [02:03<00:00,  1.24s/it]\n"
     ]
    }
   ],
   "source": [
    "ctx_precision = ContextPrecision(mistral_context_precision_sys, mistral_context_precision_usr, hf_llm)\n",
    "precision = []\n",
    "for i, item in tqdm(eval_dataset.iterrows(), total=len(eval_dataset), desc='Measuring Context Recall'):\n",
    "    qst = item.question\n",
    "    ctx = '\\n\\n'.join(item.contexts)\n",
    "    ans = item.answer\n",
    "    precision.append(ctx_precision.compute(qst, ans, ctx))"
   ],
   "metadata": {
    "collapsed": false,
    "ExecuteTime": {
     "end_time": "2024-06-19T10:07:32.809616Z",
     "start_time": "2024-06-19T10:05:28.942231Z"
    }
   },
   "id": "1c96601b8555eea3",
   "execution_count": 16
  },
  {
   "cell_type": "code",
   "outputs": [],
   "source": [
    "clean_recall = []\n",
    "for r in recall:\n",
    "    try:\n",
    "        rec = float(r)\n",
    "    except ValueError:\n",
    "        rec = 0\n",
    "    clean_recall.append(rec)"
   ],
   "metadata": {
    "collapsed": false,
    "ExecuteTime": {
     "end_time": "2024-06-19T10:10:20.220081Z",
     "start_time": "2024-06-19T10:10:20.216081Z"
    }
   },
   "id": "579449b7b229c53b",
   "execution_count": 26
  },
  {
   "cell_type": "code",
   "outputs": [],
   "source": [
    "clean_precision = []\n",
    "for p in precision:\n",
    "    try:\n",
    "        pr = float(p)\n",
    "    except ValueError:\n",
    "        pr = 0\n",
    "    clean_precision.append(pr)"
   ],
   "metadata": {
    "collapsed": false,
    "ExecuteTime": {
     "end_time": "2024-06-19T10:10:34.168549Z",
     "start_time": "2024-06-19T10:10:34.164549Z"
    }
   },
   "id": "aefb6d3a76454398",
   "execution_count": 28
  },
  {
   "cell_type": "markdown",
   "source": [],
   "metadata": {
    "collapsed": false
   },
   "id": "275c633e8efb004f"
  },
  {
   "cell_type": "markdown",
   "source": [
    "## Output plots"
   ],
   "metadata": {
    "collapsed": false
   },
   "id": "6fe0391f00ed4786"
  },
  {
   "cell_type": "code",
   "outputs": [],
   "source": [
    "import matplotlib.pyplot as plt\n",
    "import seaborn as sns"
   ],
   "metadata": {
    "collapsed": false,
    "ExecuteTime": {
     "end_time": "2024-06-19T10:10:39.161021Z",
     "start_time": "2024-06-19T10:10:39.157521Z"
    }
   },
   "id": "6415e330adf8a1dd",
   "execution_count": 29
  },
  {
   "cell_type": "code",
   "outputs": [],
   "source": [
    "evaluation = {\n",
    "    'context_recall': clean_recall,\n",
    "    'context_precision': clean_precision\n",
    "}\n",
    "eval_results = pd.DataFrame(evaluation)\n",
    "\n",
    "with open('../../../data/rag_eval/results/results.json', 'r+', encoding='utf-8') as fp:\n",
    "    content: list = json.load(fp)\n",
    "    res = eval_results.mean()\n",
    "    content.append({'context_precision': res.context_precision, 'context_recall': res.context_recall})\n",
    "    fp.seek(0)\n",
    "    json.dump(content, fp, indent=4)"
   ],
   "metadata": {
    "collapsed": false,
    "ExecuteTime": {
     "end_time": "2024-06-19T10:10:50.744545Z",
     "start_time": "2024-06-19T10:10:50.737545Z"
    }
   },
   "id": "7adfb65846e177fd",
   "execution_count": 30
  },
  {
   "cell_type": "code",
   "outputs": [
    {
     "data": {
      "text/plain": "   context_precision  context_recall\n0           0.000000        0.000000\n1           0.661228        0.487287",
      "text/html": "<div>\n<style scoped>\n    .dataframe tbody tr th:only-of-type {\n        vertical-align: middle;\n    }\n\n    .dataframe tbody tr th {\n        vertical-align: top;\n    }\n\n    .dataframe thead th {\n        text-align: right;\n    }\n</style>\n<table border=\"1\" class=\"dataframe\">\n  <thead>\n    <tr style=\"text-align: right;\">\n      <th></th>\n      <th>context_precision</th>\n      <th>context_recall</th>\n    </tr>\n  </thead>\n  <tbody>\n    <tr>\n      <th>0</th>\n      <td>0.000000</td>\n      <td>0.000000</td>\n    </tr>\n    <tr>\n      <th>1</th>\n      <td>0.661228</td>\n      <td>0.487287</td>\n    </tr>\n  </tbody>\n</table>\n</div>"
     },
     "execution_count": 31,
     "metadata": {},
     "output_type": "execute_result"
    }
   ],
   "source": [
    "eval_history = pd.DataFrame(content)\n",
    "eval_history"
   ],
   "metadata": {
    "collapsed": false,
    "ExecuteTime": {
     "end_time": "2024-06-19T10:10:51.590752Z",
     "start_time": "2024-06-19T10:10:51.581253Z"
    }
   },
   "id": "96dae7b40c52e944",
   "execution_count": 31
  },
  {
   "cell_type": "code",
   "outputs": [],
   "source": [
    "def plot_eval(df: pd.DataFrame, name: str):\n",
    "    sns.lineplot(data=df, x='x', y='y', zorder=0)\n",
    "    plt.scatter(\n",
    "        df.iloc[1:]['x'], \n",
    "        df.iloc[1:]['y'], \n",
    "        color='#000000', \n",
    "        s=15,\n",
    "        zorder=1\n",
    "    ) \n",
    "    \n",
    "    plt.ylim(0, 1) \n",
    "    plt.xticks(range(0, len(df)))\n",
    "    \n",
    "    plt.title(f'RAG Evaluation: {name}')\n",
    "    plt.ylabel(name)\n",
    "    plt.xlabel('')\n",
    "    return plt"
   ],
   "metadata": {
    "collapsed": false,
    "ExecuteTime": {
     "end_time": "2024-06-19T10:10:55.325668Z",
     "start_time": "2024-06-19T10:10:55.321687Z"
    }
   },
   "id": "e06d33ce8aabf3a5",
   "execution_count": 32
  },
  {
   "cell_type": "code",
   "outputs": [],
   "source": [
    "plots = {}\n",
    "for col in eval_history.columns:\n",
    "    values = eval_history[col].to_list()\n",
    "    plots[col] = [{'x': i, 'y': val} for i, val in enumerate(values)]\n",
    "\n",
    "ctx_precision_df = pd.DataFrame(plots['context_precision'])\n",
    "ctx_recall_df = pd.DataFrame(plots['context_recall'])"
   ],
   "metadata": {
    "collapsed": false,
    "ExecuteTime": {
     "end_time": "2024-06-19T10:10:57.005979Z",
     "start_time": "2024-06-19T10:10:57.001479Z"
    }
   },
   "id": "49190b77c14b8c7f",
   "execution_count": 33
  },
  {
   "cell_type": "code",
   "outputs": [
    {
     "data": {
      "text/plain": "<Figure size 640x480 with 1 Axes>",
      "image/png": "[encoded data removed]"
     },
     "metadata": {},
     "output_type": "display_data"
    }
   ],
   "source": [
    "plt_ctx_precision = plot_eval(ctx_precision_df, 'Context Precision')\n",
    "plt_ctx_precision.savefig('../../../data/rag_eval/results/plots/context_precision.png')"
   ],
   "metadata": {
    "collapsed": false,
    "ExecuteTime": {
     "end_time": "2024-06-19T10:10:57.664450Z",
     "start_time": "2024-06-19T10:10:57.391951Z"
    }
   },
   "id": "1ccfce4deaebd47",
   "execution_count": 34
  },
  {
   "cell_type": "code",
   "outputs": [
    {
     "data": {
      "text/plain": "<Figure size 640x480 with 1 Axes>",
      "image/png": "[encoded data removed]"
     },
     "metadata": {},
     "output_type": "display_data"
    }
   ],
   "source": [
    "plt_ctx_recall = plot_eval(ctx_recall_df, 'Context Recall')\n",
    "plt_ctx_recall.savefig('../../../data/rag_eval/results/plots/context_recall.png')"
   ],
   "metadata": {
    "collapsed": false,
    "ExecuteTime": {
     "end_time": "2024-06-19T10:10:58.001951Z",
     "start_time": "2024-06-19T10:10:57.808463Z"
    }
   },
   "id": "b21e26fc3583d54",
   "execution_count": 35
  },
  {
   "cell_type": "code",
   "outputs": [],
   "source": [],
   "metadata": {
    "collapsed": false
   },
   "id": "aa6a04bb810ae817"
  }
 ],
 "metadata": {
  "kernelspec": {
   "display_name": "Python 3",
   "language": "python",
   "name": "python3"
  },
  "language_info": {
   "codemirror_mode": {
    "name": "ipython",
    "version": 2
   },
   "file_extension": ".py",
   "mimetype": "text/x-python",
   "name": "python",
   "nbconvert_exporter": "python",
   "pygments_lexer": "ipython2",
   "version": "2.7.6"
  }
 },
 "nbformat": 4,
 "nbformat_minor": 5
}
